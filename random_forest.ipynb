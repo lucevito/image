{
  "nbformat": 4,
  "nbformat_minor": 0,
  "metadata": {
    "colab": {
      "provenance": [],
      "gpuType": "T4",
      "authorship_tag": "ABX9TyOkJwPO0BrEhnPawH1orJEd",
      "include_colab_link": true
    },
    "kernelspec": {
      "name": "python3",
      "display_name": "Python 3"
    },
    "language_info": {
      "name": "python"
    }
  },
  "cells": [
    {
      "cell_type": "markdown",
      "metadata": {
        "id": "view-in-github",
        "colab_type": "text"
      },
      "source": [
        "<a href=\"https://colab.research.google.com/github/lucevito/image/blob/main/random_forest.ipynb\" target=\"_parent\"><img src=\"https://colab.research.google.com/assets/colab-badge.svg\" alt=\"Open In Colab\"/></a>"
      ]
    },
    {
      "cell_type": "code",
      "execution_count": 1,
      "metadata": {
        "colab": {
          "base_uri": "https://localhost:8080/"
        },
        "id": "H6cm4yTyDP7C",
        "outputId": "efe727d2-a2f8-4e88-8164-ea962afc1836"
      },
      "outputs": [
        {
          "output_type": "stream",
          "name": "stdout",
          "text": [
            "Drive already mounted at /content/drive; to attempt to forcibly remount, call drive.mount(\"/content/drive\", force_remount=True).\n",
            "/content/drive/MyDrive\n"
          ]
        }
      ],
      "source": [
        "from google.colab import drive\n",
        "drive.mount('/content/drive')\n",
        "%cd drive/MyDrive"
      ]
    },
    {
      "cell_type": "code",
      "source": [
        "import os\n",
        "import uuid\n",
        "import glob\n",
        "import numpy as np\n",
        "from PIL import Image\n",
        "from matplotlib import pyplot as plt\n",
        "\n",
        "canali_selezionati = [0, 1, 2, 3, 4, 5, 6, 7, 8, 9]"
      ],
      "metadata": {
        "id": "OsBrxhIVDUGU"
      },
      "execution_count": 2,
      "outputs": []
    },
    {
      "cell_type": "code",
      "source": [
        "import tensorflow as tf\n",
        "\n",
        "from sklearn.model_selection import train_test_split\n",
        "from keras import metrics\n",
        "import matplotlib.pyplot as plt\n",
        "from keras.utils import plot_model\n",
        "\n",
        "train_images_path = 'Immagini_satellitari/Train/images'\n",
        "train_masks_path = 'Immagini_satellitari/Train/masks'\n",
        "train_images_files = glob.glob(train_images_path + '/*.npy')\n",
        "train_masks_files = glob.glob(train_masks_path + '/*.npy')\n",
        "test_images_path = 'Immagini_satellitari/Test/images'\n",
        "test_masks_path = 'Immagini_satellitari/Test/masks'\n",
        "test_images_files = glob.glob(test_images_path + '/*.npy')\n",
        "test_masks_files = glob.glob(test_masks_path + '/*.npy')\n",
        "\n",
        "train_images_batch = np.array([np.load(file) for file in train_images_files])\n",
        "train_masks_batch = np.array([np.load(file) for file in train_masks_files])\n",
        "train_images_batch = train_images_batch[:, :, :, canali_selezionati]\n",
        "\n",
        "\n",
        "test_images = np.array([np.load(file) for file in test_images_files])\n",
        "test_masks = np.array([np.load(file) for file in test_masks_files])\n",
        "test_images = test_images[:, :, :, canali_selezionati]\n",
        "\n",
        "\n"
      ],
      "metadata": {
        "id": "JnvN2_VlDWT9"
      },
      "execution_count": 3,
      "outputs": []
    },
    {
      "cell_type": "code",
      "source": [],
      "metadata": {
        "id": "ODnPUTxBkcoc"
      },
      "execution_count": 3,
      "outputs": []
    },
    {
      "cell_type": "code",
      "source": [],
      "metadata": {
        "id": "nFQXXnCMkeAl"
      },
      "execution_count": 3,
      "outputs": []
    },
    {
      "cell_type": "code",
      "source": [],
      "metadata": {
        "id": "aD3_Ov8Ek1EZ"
      },
      "execution_count": 3,
      "outputs": []
    },
    {
      "cell_type": "code",
      "source": [
        "train_images, val_images, train_masks, val_masks = train_test_split(train_images_batch,\n",
        "                                                                    train_masks_batch,\n",
        "                                                                    test_size=0.2, random_state=42)\n",
        "\n",
        "print('train_images :')\n",
        "num_pixel_per_image = 32 * 32 * 10\n",
        "train_images = train_images.reshape(-1, num_pixel_per_image)\n",
        "print(train_images.shape)\n",
        "\n",
        "print('train_masks :')\n",
        "num_pixel_per_mask = 32 * 32 * 1\n",
        "train_masks = train_masks[:, :32, :32, np.newaxis]\n",
        "train_masks = train_masks.reshape(-1, num_pixel_per_mask)\n",
        "print(train_masks.shape)\n",
        "\n",
        "print('val_images :')\n",
        "num_pixel_per_image = 32 * 32 * 10\n",
        "val_images = val_images.reshape(-1, num_pixel_per_image)\n",
        "print(val_images.shape)\n",
        "\n",
        "print('val_masks :')\n",
        "num_pixel_per_mask = 32 * 32 * 1\n",
        "val_masks = val_masks[:, :32, :32, np.newaxis]\n",
        "val_masks = val_masks.reshape(-1, num_pixel_per_mask)\n",
        "print(val_masks.shape)\n",
        "\n",
        "\n",
        "print('test_images :')\n",
        "num_pixel_per_image = 32 * 32 * 10\n",
        "test_images = test_images.reshape(-1, num_pixel_per_image)\n",
        "print(test_images.shape)\n",
        "\n",
        "print('test_masks :')\n",
        "num_pixel_per_mask = 32 * 32 * 1\n",
        "test_masks = test_masks[:, :32, :32, np.newaxis]\n",
        "test_masks = test_masks.reshape(-1, num_pixel_per_mask)\n",
        "print(test_masks.shape)"
      ],
      "metadata": {
        "id": "t1brmWJhRkLM",
        "colab": {
          "base_uri": "https://localhost:8080/"
        },
        "outputId": "3324f936-2b55-4e9b-b22e-d1ff49ad52e8"
      },
      "execution_count": 4,
      "outputs": [
        {
          "output_type": "stream",
          "name": "stdout",
          "text": [
            "train_images :\n",
            "(523, 10240)\n",
            "train_masks :\n",
            "(523, 1024)\n",
            "val_images :\n",
            "(131, 10240)\n",
            "val_masks :\n",
            "(131, 1024)\n",
            "test_images :\n",
            "(161, 10240)\n",
            "test_masks :\n",
            "(161, 1024)\n"
          ]
        }
      ]
    },
    {
      "cell_type": "code",
      "source": [
        "from sklearn.ensemble import RandomForestClassifier\n",
        "from sklearn.model_selection import train_test_split\n",
        "from sklearn.metrics import accuracy_score\n",
        "\n",
        "rf_model = RandomForestClassifier(n_estimators=100,random_state=42)\n",
        "rf_model.fit(train_images, train_masks)\n",
        "\n",
        "val_predictions = rf_model.predict(val_images)\n",
        "val_predictions = (val_predictions > 0.5).astype(np.uint8)\n",
        "\n",
        "val_accuracy = accuracy_score(val_masks, val_predictions)\n",
        "print(\"Validation Accuracy:\", val_accuracy)\n",
        "\n",
        "test_predictions = rf_model.predict(test_images)\n",
        "test_predictions = (test_predictions > 0.5).astype(np.uint8)\n",
        "\n",
        "test_accuracy = accuracy_score(test_masks, test_predictions)\n",
        "print(\"Test Accuracy:\", test_accuracy)"
      ],
      "metadata": {
        "id": "DxdmzMQ_ergz",
        "colab": {
          "base_uri": "https://localhost:8080/"
        },
        "outputId": "bfe8603b-e5b7-416f-8c59-22b8a457c3e5"
      },
      "execution_count": 5,
      "outputs": [
        {
          "output_type": "stream",
          "name": "stdout",
          "text": [
            "Validation Accuracy: 0.5877862595419847\n",
            "Test Accuracy: 0.5652173913043478\n"
          ]
        }
      ]
    },
    {
      "cell_type": "code",
      "source": [
        "print(test_masks.shape)\n",
        "print(test_predictions.shape)"
      ],
      "metadata": {
        "id": "_2RGOYpto-ni",
        "colab": {
          "base_uri": "https://localhost:8080/"
        },
        "outputId": "296880c2-6bcc-4bc3-819a-39ed17b10be8"
      },
      "execution_count": 6,
      "outputs": [
        {
          "output_type": "stream",
          "name": "stdout",
          "text": [
            "(161, 1024)\n",
            "(161, 1024)\n"
          ]
        }
      ]
    },
    {
      "cell_type": "code",
      "source": [
        "print(test_masks)\n"
      ],
      "metadata": {
        "id": "FbbyO2q3pQji",
        "colab": {
          "base_uri": "https://localhost:8080/"
        },
        "outputId": "4b0bcd42-991e-46b9-90b0-9d7a08543cea"
      },
      "execution_count": 7,
      "outputs": [
        {
          "output_type": "stream",
          "name": "stdout",
          "text": [
            "[[0 0 0 ... 0 0 0]\n",
            " [0 0 0 ... 0 0 0]\n",
            " [0 0 0 ... 0 0 0]\n",
            " ...\n",
            " [0 0 0 ... 0 0 0]\n",
            " [0 0 0 ... 0 0 0]\n",
            " [0 0 0 ... 0 0 0]]\n"
          ]
        }
      ]
    },
    {
      "cell_type": "code",
      "source": [
        "print(test_predictions)"
      ],
      "metadata": {
        "id": "3HQ8igozpQvy",
        "colab": {
          "base_uri": "https://localhost:8080/"
        },
        "outputId": "9eef1d1b-7ae5-4a59-872d-3066b4e51cb3"
      },
      "execution_count": 8,
      "outputs": [
        {
          "output_type": "stream",
          "name": "stdout",
          "text": [
            "[[0 0 0 ... 0 0 0]\n",
            " [0 0 0 ... 0 0 0]\n",
            " [0 0 0 ... 0 0 0]\n",
            " ...\n",
            " [0 0 0 ... 0 0 0]\n",
            " [0 0 0 ... 0 0 0]\n",
            " [0 0 0 ... 0 0 0]]\n"
          ]
        }
      ]
    },
    {
      "cell_type": "code",
      "source": [
        "test_masks = test_masks.flatten()\n",
        "test_predictions = test_predictions.flatten()\n",
        "print(test_masks.shape)\n",
        "print(test_predictions.shape)"
      ],
      "metadata": {
        "id": "oeu0NjEHph2E",
        "colab": {
          "base_uri": "https://localhost:8080/"
        },
        "outputId": "4333e23d-597b-4e16-af9c-6fbb3c61c884"
      },
      "execution_count": 9,
      "outputs": [
        {
          "output_type": "stream",
          "name": "stdout",
          "text": [
            "(164864,)\n",
            "(164864,)\n"
          ]
        }
      ]
    },
    {
      "cell_type": "code",
      "source": [
        "from sklearn.metrics import accuracy_score, precision_score, recall_score, f1_score, confusion_matrix\n",
        "\n",
        "# Calcola l'accuracy\n",
        "accuracy = accuracy_score(test_masks, test_predictions)\n",
        "print(\"Accuracy:\", accuracy)\n",
        "\n",
        "# Calcola la precision\n",
        "precision = precision_score(test_masks, test_predictions)\n",
        "print(\"Precision:\", precision)\n",
        "\n",
        "# Calcola il recall\n",
        "recall = recall_score(test_masks, test_predictions)\n",
        "print(\"Recall:\", recall)\n",
        "\n",
        "# Calcola l'F1-score\n",
        "f1 = f1_score(test_masks, test_predictions)\n",
        "print(\"F1-score:\", f1)\n",
        "\n",
        "# Calcola la confusion matrix\n",
        "conf_matrix = confusion_matrix(test_masks, test_predictions)\n",
        "print(\"Confusion Matrix:\")\n",
        "print(conf_matrix)\n"
      ],
      "metadata": {
        "id": "6RcNhSXCodtx",
        "colab": {
          "base_uri": "https://localhost:8080/"
        },
        "outputId": "57db5a32-04b4-4391-8f5f-aa3df044ac83"
      },
      "execution_count": 10,
      "outputs": [
        {
          "output_type": "stream",
          "name": "stdout",
          "text": [
            "Accuracy: 0.9832346661490683\n",
            "Precision: 0.0\n",
            "Recall: 0.0\n",
            "F1-score: 0.0\n",
            "Confusion Matrix:\n",
            "[[162100      0]\n",
            " [  2764      0]]\n"
          ]
        },
        {
          "output_type": "stream",
          "name": "stderr",
          "text": [
            "/usr/local/lib/python3.10/dist-packages/sklearn/metrics/_classification.py:1344: UndefinedMetricWarning: Precision is ill-defined and being set to 0.0 due to no predicted samples. Use `zero_division` parameter to control this behavior.\n",
            "  _warn_prf(average, modifier, msg_start, len(result))\n"
          ]
        }
      ]
    }
  ]
}