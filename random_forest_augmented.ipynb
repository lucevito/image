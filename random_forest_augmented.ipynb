{
  "nbformat": 4,
  "nbformat_minor": 0,
  "metadata": {
    "colab": {
      "provenance": [],
      "gpuType": "T4",
      "authorship_tag": "ABX9TyOZv8YIfEKtWe0ZdioluCae",
      "include_colab_link": true
    },
    "kernelspec": {
      "name": "python3",
      "display_name": "Python 3"
    },
    "language_info": {
      "name": "python"
    }
  },
  "cells": [
    {
      "cell_type": "markdown",
      "metadata": {
        "id": "view-in-github",
        "colab_type": "text"
      },
      "source": [
        "<a href=\"https://colab.research.google.com/github/lucevito/image/blob/main/random_forest_augmented.ipynb\" target=\"_parent\"><img src=\"https://colab.research.google.com/assets/colab-badge.svg\" alt=\"Open In Colab\"/></a>"
      ]
    },
    {
      "cell_type": "code",
      "execution_count": 3,
      "metadata": {
        "colab": {
          "base_uri": "https://localhost:8080/"
        },
        "id": "H6cm4yTyDP7C",
        "outputId": "b771e928-0830-4c9a-ab5a-893ad8317551"
      },
      "outputs": [
        {
          "output_type": "stream",
          "name": "stdout",
          "text": [
            "Drive already mounted at /content/drive; to attempt to forcibly remount, call drive.mount(\"/content/drive\", force_remount=True).\n",
            "[Errno 2] No such file or directory: 'drive/MyDrive'\n",
            "/content/drive/MyDrive\n"
          ]
        }
      ],
      "source": [
        "from google.colab import drive\n",
        "drive.mount('/content/drive')\n",
        "%cd drive/MyDrive"
      ]
    },
    {
      "cell_type": "code",
      "source": [
        "import os\n",
        "import uuid\n",
        "import glob\n",
        "import numpy as np\n",
        "from sklearn.metrics import accuracy_score, precision_score, recall_score, jaccard_score, confusion_matrix, f1_score\n",
        "import tensorflow as tf\n",
        "import os\n",
        "import uuid\n",
        "import glob\n",
        "import numpy as np\n",
        "from PIL import Image\n",
        "from matplotlib import pyplot as plt\n",
        "from sklearn.model_selection import train_test_split\n",
        "from keras import *\n",
        "import matplotlib.pyplot as plt\n",
        "from keras.utils import plot_model\n",
        "from sklearn.metrics import confusion_matrix, classification_report, accuracy_score\n",
        "from sklearn.metrics import precision_recall_fscore_support\n",
        "\n",
        "\n",
        "encoder_filters = [256,512,1024]\n",
        "decoder_filters = encoder_filters[::-1]\n",
        "kernel = (2,2)\n",
        "num_classes = 1\n",
        "pool_size = (2, 2)\n",
        "\n",
        "size = (32, 32)\n",
        "canali_selezionati = [0, 1, 2, 3, 4, 5, 6, 7, 8, 9]\n",
        "input_shape = (size[0], size[1], len(canali_selezionati))\n",
        "modello = 'modello.h5'\n"
      ],
      "metadata": {
        "id": "OsBrxhIVDUGU"
      },
      "execution_count": 4,
      "outputs": []
    },
    {
      "cell_type": "code",
      "source": [
        "train_images_path = 'Immagini_satellitari/Train/images'\n",
        "train_masks_path = 'Immagini_satellitari/Train/masks'\n",
        "train_images_files = glob.glob(train_images_path + '/*.npy')\n",
        "train_masks_files = glob.glob(train_masks_path + '/*.npy')\n",
        "train_images_batch = np.array([np.load(file) for file in train_images_files])\n",
        "train_masks_batch = np.array([np.load(file) for file in train_masks_files])\n",
        "train_images_batch = train_images_batch[:, :, :, canali_selezionati]\n",
        "train_masks_batch = tf.expand_dims(train_masks_batch, axis=-1)\n",
        "\n",
        "test_images_path = 'Immagini_satellitari/Test/images'\n",
        "test_masks_path = 'Immagini_satellitari/Test/masks'\n",
        "test_images_files = glob.glob(test_images_path + '/*.npy')\n",
        "test_masks_files = glob.glob(test_masks_path + '/*.npy')\n",
        "test_images_batch = np.array([np.load(file) for file in test_images_files])\n",
        "test_masks_batch = np.array([np.load(file) for file in test_masks_files])\n",
        "test_images_batch = test_images_batch[:, :, :, canali_selezionati]\n",
        "test_masks_batch = tf.expand_dims(test_masks_batch, axis=-1)\n",
        "\n",
        "images_to_keep = []\n",
        "masks_to_keep = []\n",
        "\n",
        "for image, mask in zip(train_images_batch, train_masks_batch):\n",
        "    if not np.all(mask == 0):\n",
        "        images_to_keep.append(image)\n",
        "        masks_to_keep.append(mask)\n",
        "\n",
        "train_images_batch_filtered = np.array(images_to_keep)\n",
        "train_masks_batch_filtered = np.array(masks_to_keep)\n",
        "print(train_images_batch_filtered.shape)\n"
      ],
      "metadata": {
        "id": "JnvN2_VlDWT9",
        "colab": {
          "base_uri": "https://localhost:8080/"
        },
        "outputId": "76833305-86b6-41c1-ad4a-021467b67f7c"
      },
      "execution_count": 5,
      "outputs": [
        {
          "output_type": "stream",
          "name": "stdout",
          "text": [
            "(311, 32, 32, 10)\n"
          ]
        }
      ]
    },
    {
      "cell_type": "code",
      "source": [
        "def flip_left_right(input_image, input_mask):\n",
        "  channels = tf.split(input_image, num_or_size_splits=10, axis=-1)\n",
        "  flipped_channels = [tf.image.flip_left_right(channel) for channel in channels]\n",
        "  input_image = tf.concat(flipped_channels, axis=-1)\n",
        "  input_mask = tf.image.flip_left_right(input_mask)\n",
        "  return input_image, input_mask\n",
        "\n",
        "# Rotazione\n",
        "def rotate_image(input_image, input_mask, angle=45):\n",
        "    channels = tf.split(input_image, num_or_size_splits=10, axis=-1)\n",
        "    rotate_channels = [tf.image.rot90(channel, k=angle // 90) for channel in channels]\n",
        "\n",
        "    input_image = tf.concat(rotate_channels, axis=-1)\n",
        "    input_mask = tf.image.rot90(input_mask, k=angle // 90)\n",
        "    return input_image, input_mask\n",
        "\n",
        "# Zoom\n",
        "def zoom_image(input_image, input_mask, zoom_factor=0.8):\n",
        "    channels = tf.split(input_image, num_or_size_splits=10, axis=-1)\n",
        "    zoom_channels = [tf.image.central_crop(channel, zoom_factor) for channel in channels]\n",
        "\n",
        "    input_image = tf.concat(zoom_channels, axis=-1)\n",
        "    input_mask = tf.image.central_crop(input_mask, zoom_factor)\n",
        "    return input_image, input_mask\n",
        "\n",
        "# Traslazione\n",
        "def translate_image(input_image, input_mask, translation=(10, -5)):\n",
        "    channels = tf.split(input_image, num_or_size_splits=10, axis=-1)\n",
        "    translate_channels = [tf.roll(channel, shift=translation, axis=[0, 1]) for channel in channels]\n",
        "    input_image = tf.concat(translate_channels, axis=-1)\n",
        "    input_mask = tf.roll(mask, shift=translation, axis=[0, 1])\n",
        "    return input_image, input_mask\n",
        "\n",
        "# Cambiamento delle dimensioni\n",
        "def resize_image(input_image, input_mask, new_size = (128,128)):\n",
        "    channels = tf.split(input_image, num_or_size_splits=10, axis=-1)\n",
        "    resize_channels = [tf.image.resize(channel,new_size) for channel in channels]\n",
        "    input_image = tf.concat(resize_channels, axis=-1)\n",
        "    input_mask = tf.image.resize(input_mask, new_size)\n",
        "    return input_image, input_mask\n",
        "\n",
        "\n",
        "def normalize(input_image, input_mask):\n",
        "   input_image = tf.cast(input_image, tf.float32) / 255.0\n",
        "#   input_mask -= 1\n",
        "   return input_image, input_mask"
      ],
      "metadata": {
        "id": "ODnPUTxBkcoc"
      },
      "execution_count": 6,
      "outputs": []
    },
    {
      "cell_type": "code",
      "source": [
        "def transform_image_train(input_image,input_mask):\n",
        "  input_image, input_mask = normalize(input_image, input_mask)\n",
        "  return input_image, input_mask\n",
        "\n",
        "def transform_image_test(input_image,input_mask):\n",
        "  input_image, input_mask = normalize(input_image, input_mask)\n",
        "  return input_image, input_mask"
      ],
      "metadata": {
        "id": "nFQXXnCMkeAl"
      },
      "execution_count": 7,
      "outputs": []
    },
    {
      "cell_type": "code",
      "source": [
        "\n",
        "augmented_images = []\n",
        "augmented_masks = []\n",
        "\n",
        "for image, mask in zip(train_images_batch, train_masks_batch):\n",
        "  augmented_images.append(image)\n",
        "  augmented_masks.append(mask)\n",
        "  if not np.all(mask == 0):\n",
        "    augmented_image,augmented_mask = flip_left_right(image,mask)\n",
        "    augmented_images.append(augmented_image)\n",
        "    augmented_masks.append(augmented_mask)\n",
        "\n",
        "    augmented_image,augmented_mask = rotate_image(image,mask,15)\n",
        "    augmented_images.append(augmented_image)\n",
        "    augmented_masks.append(augmented_mask)\n",
        "\n",
        "    augmented_image,augmented_mask = rotate_image(image,mask,30)\n",
        "    augmented_images.append(augmented_image)\n",
        "    augmented_masks.append(augmented_mask)\n",
        "    augmented_image,augmented_mask = rotate_image(image,mask,45)\n",
        "    augmented_images.append(augmented_image)\n",
        "    augmented_masks.append(augmented_mask)\n",
        "\n",
        "    augmented_image,augmented_mask = rotate_image(image,mask,60)\n",
        "    augmented_images.append(augmented_image)\n",
        "    augmented_masks.append(augmented_mask)\n",
        "    augmented_image,augmented_mask = rotate_image(image,mask,75)\n",
        "    augmented_images.append(augmented_image)\n",
        "    augmented_masks.append(augmented_mask)\n",
        "\n",
        "    augmented_image,augmented_mask = rotate_image(image,mask,90)\n",
        "    augmented_images.append(augmented_image)\n",
        "    augmented_masks.append(augmented_mask)\n",
        "\n",
        "    augmented_image,augmented_mask = rotate_image(image,mask,120)\n",
        "    augmented_images.append(augmented_image)\n",
        "    augmented_masks.append(augmented_mask)\n",
        "\n",
        "    augmented_image,augmented_mask = rotate_image(image,mask,180)\n",
        "    augmented_images.append(augmented_image)\n",
        "    augmented_masks.append(augmented_mask)\n",
        "\n",
        "    augmented_image,augmented_mask = rotate_image(image,mask,270)\n",
        "    augmented_images.append(augmented_image)\n",
        "    augmented_masks.append(augmented_mask)\n",
        "\n",
        "\n",
        "train_images_batch_augmented = augmented_images\n",
        "train_masks_batch_augmented = augmented_masks\n",
        "\n",
        "transformed_images_masks_train = [transform_image_test(image, mask) for image, mask in zip(train_images_batch_augmented, train_masks_batch_augmented)]\n",
        "train_images = np.array([item[0] for item in transformed_images_masks_train])\n",
        "train_masks = np.array([item[1] for item in transformed_images_masks_train])\n",
        "\n",
        "transformed_images_masks_test = [transform_image_test(image, mask) for image, mask in zip(test_images_batch, test_masks_batch)]\n",
        "test_images = np.array([item[0] for item in transformed_images_masks_test])\n",
        "test_masks = np.array([item[1] for item in transformed_images_masks_test])"
      ],
      "metadata": {
        "id": "aD3_Ov8Ek1EZ"
      },
      "execution_count": 8,
      "outputs": []
    },
    {
      "cell_type": "code",
      "source": [
        "train_images, val_images, train_masks, val_masks = train_test_split(train_images,\n",
        "                                                                    train_masks,\n",
        "                                                                    test_size=0.2, random_state=42)\n",
        "\n",
        "print('train_images :')\n",
        "num_pixel_per_image = 32 * 32 * 10\n",
        "train_images = train_images.reshape(-1, num_pixel_per_image)\n",
        "print(train_images.shape)\n",
        "\n",
        "print('train_masks :')\n",
        "num_pixel_per_mask = 32 * 32 * 1\n",
        "train_masks = train_masks[:, :32, :32, np.newaxis]\n",
        "train_masks = train_masks.reshape(-1, num_pixel_per_mask)\n",
        "print(train_masks.shape)\n",
        "\n",
        "print('val_images :')\n",
        "num_pixel_per_image = 32 * 32 * 10\n",
        "val_images = val_images.reshape(-1, num_pixel_per_image)\n",
        "print(val_images.shape)\n",
        "\n",
        "print('val_masks :')\n",
        "num_pixel_per_mask = 32 * 32 * 1\n",
        "val_masks = val_masks[:, :32, :32, np.newaxis]\n",
        "val_masks = val_masks.reshape(-1, num_pixel_per_mask)\n",
        "print(val_masks.shape)\n",
        "\n",
        "\n",
        "print('test_images :')\n",
        "num_pixel_per_image = 32 * 32 * 10\n",
        "test_images = test_images.reshape(-1, num_pixel_per_image)\n",
        "print(test_images.shape)\n",
        "\n",
        "print('test_masks :')\n",
        "num_pixel_per_mask = 32 * 32 * 1\n",
        "test_masks = test_masks[:, :32, :32, np.newaxis]\n",
        "test_masks = test_masks.reshape(-1, num_pixel_per_mask)\n",
        "print(test_masks.shape)"
      ],
      "metadata": {
        "id": "t1brmWJhRkLM",
        "colab": {
          "base_uri": "https://localhost:8080/"
        },
        "outputId": "a15e6813-cac2-456b-d3d3-a25f32f2af98"
      },
      "execution_count": 9,
      "outputs": [
        {
          "output_type": "stream",
          "name": "stdout",
          "text": [
            "train_images :\n",
            "(3011, 10240)\n",
            "train_masks :\n",
            "(3011, 1024)\n",
            "val_images :\n",
            "(753, 10240)\n",
            "val_masks :\n",
            "(753, 1024)\n",
            "test_images :\n",
            "(161, 10240)\n",
            "test_masks :\n",
            "(161, 1024)\n"
          ]
        }
      ]
    },
    {
      "cell_type": "code",
      "source": [
        "from sklearn.ensemble import RandomForestClassifier\n",
        "from sklearn.model_selection import train_test_split\n",
        "from sklearn.metrics import accuracy_score\n",
        "\n",
        "rf_model = RandomForestClassifier(n_estimators=100,random_state=42)\n",
        "rf_model.fit(train_images, train_masks)\n",
        "\n",
        "val_predictions = rf_model.predict(val_images)\n",
        "val_predictions = (val_predictions > 0.5).astype(np.uint8)\n",
        "\n",
        "val_accuracy = accuracy_score(val_masks, val_predictions)\n",
        "print(\"Validation Accuracy:\", val_accuracy)\n",
        "\n",
        "test_predictions = rf_model.predict(test_images)\n",
        "test_predictions = (test_predictions > 0.5).astype(np.uint8)\n",
        "\n",
        "test_accuracy = accuracy_score(test_masks, test_predictions)\n",
        "print(\"Test Accuracy:\", test_accuracy)"
      ],
      "metadata": {
        "id": "DxdmzMQ_ergz",
        "colab": {
          "base_uri": "https://localhost:8080/"
        },
        "outputId": "4a5097e1-d83b-41c7-f3ee-73c13cea4c6b"
      },
      "execution_count": 10,
      "outputs": [
        {
          "output_type": "stream",
          "name": "stdout",
          "text": [
            "Validation Accuracy: 0.7051792828685259\n",
            "Test Accuracy: 0.5652173913043478\n"
          ]
        }
      ]
    },
    {
      "cell_type": "code",
      "source": [
        "print(test_masks.shape)\n",
        "print(test_predictions.shape)"
      ],
      "metadata": {
        "id": "_2RGOYpto-ni",
        "colab": {
          "base_uri": "https://localhost:8080/"
        },
        "outputId": "452a4187-a388-4e03-bb15-c70e947e8578"
      },
      "execution_count": 11,
      "outputs": [
        {
          "output_type": "stream",
          "name": "stdout",
          "text": [
            "(161, 1024)\n",
            "(161, 1024)\n"
          ]
        }
      ]
    },
    {
      "cell_type": "code",
      "source": [
        "print(test_masks)\n"
      ],
      "metadata": {
        "id": "FbbyO2q3pQji",
        "colab": {
          "base_uri": "https://localhost:8080/"
        },
        "outputId": "6654c44d-db19-435c-91d9-27901f8febad"
      },
      "execution_count": 12,
      "outputs": [
        {
          "output_type": "stream",
          "name": "stdout",
          "text": [
            "[[0 0 0 ... 0 0 0]\n",
            " [0 0 0 ... 0 0 0]\n",
            " [0 0 0 ... 0 0 0]\n",
            " ...\n",
            " [0 0 0 ... 0 0 0]\n",
            " [0 0 0 ... 0 0 0]\n",
            " [0 0 0 ... 0 0 0]]\n"
          ]
        }
      ]
    },
    {
      "cell_type": "code",
      "source": [
        "print(test_predictions)"
      ],
      "metadata": {
        "id": "3HQ8igozpQvy",
        "colab": {
          "base_uri": "https://localhost:8080/"
        },
        "outputId": "e9bbe2ec-bead-4c12-b138-e3feeed135b3"
      },
      "execution_count": 13,
      "outputs": [
        {
          "output_type": "stream",
          "name": "stdout",
          "text": [
            "[[0 0 0 ... 0 0 0]\n",
            " [0 0 0 ... 0 0 0]\n",
            " [0 0 0 ... 0 0 0]\n",
            " ...\n",
            " [0 0 0 ... 0 0 0]\n",
            " [0 0 0 ... 0 0 0]\n",
            " [0 0 0 ... 0 0 0]]\n"
          ]
        }
      ]
    },
    {
      "cell_type": "code",
      "source": [
        "test_masks = test_masks.flatten()\n",
        "test_predictions = test_predictions.flatten()\n",
        "print(test_masks.shape)\n",
        "print(test_predictions.shape)"
      ],
      "metadata": {
        "id": "oeu0NjEHph2E",
        "colab": {
          "base_uri": "https://localhost:8080/"
        },
        "outputId": "9ad501cd-e447-47be-9293-a6db97593257"
      },
      "execution_count": 14,
      "outputs": [
        {
          "output_type": "stream",
          "name": "stdout",
          "text": [
            "(164864,)\n",
            "(164864,)\n"
          ]
        }
      ]
    },
    {
      "cell_type": "code",
      "source": [
        "from sklearn.metrics import accuracy_score, precision_score, recall_score, f1_score, confusion_matrix\n",
        "\n",
        "# Calcola l'accuracy\n",
        "accuracy = accuracy_score(test_masks, test_predictions)\n",
        "print(\"Accuracy:\", accuracy)\n",
        "\n",
        "# Calcola la precision\n",
        "precision = precision_score(test_masks, test_predictions)\n",
        "print(\"Precision:\", precision)\n",
        "\n",
        "# Calcola il recall\n",
        "recall = recall_score(test_masks, test_predictions)\n",
        "print(\"Recall:\", recall)\n",
        "\n",
        "# Calcola l'F1-score\n",
        "f1 = f1_score(test_masks, test_predictions)\n",
        "print(\"F1-score:\", f1)\n",
        "\n",
        "# Calcola la confusion matrix\n",
        "conf_matrix = confusion_matrix(test_masks, test_predictions)\n",
        "print(\"Confusion Matrix:\")\n",
        "print(conf_matrix)\n"
      ],
      "metadata": {
        "id": "6RcNhSXCodtx",
        "colab": {
          "base_uri": "https://localhost:8080/"
        },
        "outputId": "24b98b32-9368-4169-911b-cc89907f31b8"
      },
      "execution_count": 15,
      "outputs": [
        {
          "output_type": "stream",
          "name": "stdout",
          "text": [
            "Accuracy: 0.9832286005434783\n",
            "Precision: 0.0\n",
            "Recall: 0.0\n",
            "F1-score: 0.0\n",
            "Confusion Matrix:\n",
            "[[162099      1]\n",
            " [  2764      0]]\n"
          ]
        }
      ]
    }
  ]
}