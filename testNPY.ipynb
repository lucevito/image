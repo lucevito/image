{
  "nbformat": 4,
  "nbformat_minor": 0,
  "metadata": {
    "colab": {
      "provenance": [],
      "gpuType": "T4",
      "authorship_tag": "ABX9TyP1f6oUxAgUE6LuDLuNTZn3",
      "include_colab_link": true
    },
    "kernelspec": {
      "name": "python3",
      "display_name": "Python 3"
    },
    "language_info": {
      "name": "python"
    },
    "accelerator": "GPU",
    "gpuClass": "standard"
  },
  "cells": [
    {
      "cell_type": "markdown",
      "metadata": {
        "id": "view-in-github",
        "colab_type": "text"
      },
      "source": [
        "<a href=\"https://colab.research.google.com/github/lucevito/image/blob/main/testNPY.ipynb\" target=\"_parent\"><img src=\"https://colab.research.google.com/assets/colab-badge.svg\" alt=\"Open In Colab\"/></a>"
      ]
    },
    {
      "cell_type": "code",
      "execution_count": 1,
      "metadata": {
        "id": "qx6TDyi1pQi2",
        "colab": {
          "base_uri": "https://localhost:8080/"
        },
        "outputId": "ff27dfc7-31b7-401c-f369-4e67a258b1d9"
      },
      "outputs": [
        {
          "output_type": "stream",
          "name": "stdout",
          "text": [
            "Mounted at /content/drive/\n",
            "/content/drive/MyDrive\n"
          ]
        }
      ],
      "source": [
        "from google.colab import drive\n",
        "drive.mount('/content/drive/')\n",
        "%cd drive/MyDrive\n"
      ]
    },
    {
      "cell_type": "code",
      "source": [
        "ls"
      ],
      "metadata": {
        "colab": {
          "base_uri": "https://localhost:8080/"
        },
        "id": "BN32-Mbyg8mF",
        "outputId": "4d4c2eb5-9e22-4d8f-c2b3-7054993e826e"
      },
      "execution_count": 2,
      "outputs": [
        {
          "output_type": "stream",
          "name": "stdout",
          "text": [
            " a.npy               \u001b[0m\u001b[01;34mdataset\u001b[0m/    \u001b[01;34moutput\u001b[0m/      \u001b[01;34mpyimagesearch\u001b[0m/   train.py\n",
            "\u001b[01;34m'Colab Notebooks'\u001b[0m/   \u001b[01;34mDS_SWIFT\u001b[0m/   predict.py   \u001b[01;34mtest\u001b[0m/\n"
          ]
        }
      ]
    },
    {
      "cell_type": "code",
      "source": [
        "import torch\n",
        "import os\n",
        "\n",
        "# base path of the dataset\n",
        "DATASET_PATH_TRAIN = os.path.join(\"DS_SWIFT\", \"Train\")\n",
        "IMAGE_TRAIN_DATASET_PATH = os.path.join(DATASET_PATH_TRAIN, \"Images\")\n",
        "MASK_TRAIN_DATASET_PATH = os.path.join(DATASET_PATH_TRAIN, \"masks\")\n",
        "\n",
        "# base path of the dataset\n",
        "DATASET_PATH_TEST = os.path.join(\"DS_SWIFT\", \"Test\")\n",
        "IMAGE_TEST_DATASET_PATH = os.path.join(DATASET_PATH_TEST, \"images\")\n",
        "MASK_TEST_DATASET_PATH = os.path.join(DATASET_PATH_TEST, \"masks\")\n",
        "\n",
        "# determine the device to be used for training and evaluation\n",
        "DEVICE = \"cuda\" if torch.cuda.is_available() else \"cpu\"\n",
        "\n",
        "# determine if we will be pinning memory during data loading\n",
        "PIN_MEMORY = True if DEVICE == \"cuda\" else False\n",
        "\n",
        "# define the number of channels in the input, number of classes,\n",
        "# and number of levels in the U-Net model\n",
        "NUM_CHANNELS = 1\n",
        "NUM_CLASSES = 1\n",
        "NUM_LEVELS = 3\n",
        "\n",
        "# initialize learning rate\n",
        "#Learning rate controls how quickly or slowly a neural network model learns a problem\n",
        "INIT_LR = 0.001\n",
        "\n",
        "#One epoch leads to underfitting of the curve in the graph\n",
        "NUM_EPOCHS = 40\n",
        "\n",
        "#The batch size defines the number of samples that will be propagated through the network.\n",
        "BATCH_SIZE = 64\n",
        "\n",
        "# define the input image dimensions\n",
        "INPUT_IMAGE_WIDTH = 32\n",
        "INPUT_IMAGE_HEIGHT = 32\n",
        "\n",
        "# define threshold to filter weak predictions(soglia)\n",
        "THRESHOLD = 0.5\n",
        "\n",
        "# define the path to the base output directory\n",
        "BASE_OUTPUT = \"output\"\n",
        "\n",
        "# define the path to the output serialized model, model training\n",
        "# plot, and testing image paths\n",
        "MODEL_PATH = os.path.join(BASE_OUTPUT, \"unet.pth\")\n",
        "PLOT_PATH = os.path.sep.join([BASE_OUTPUT, \"plot.png\"])\n",
        "TEST_PATHS = os.path.sep.join([BASE_OUTPUT, \"test_paths.txt\"])\n",
        "\n"
      ],
      "metadata": {
        "id": "AXSo5mPrsXmq"
      },
      "execution_count": 3,
      "outputs": []
    },
    {
      "cell_type": "code",
      "source": [],
      "metadata": {
        "id": "56PsK-DK9wMj"
      },
      "execution_count": 3,
      "outputs": []
    },
    {
      "cell_type": "code",
      "source": [
        "from torch.utils.data import Dataset\n",
        "import cv2\n",
        "import numpy as np\n",
        "\n",
        "class SegmentationDatasetTrain(Dataset):\n",
        "\tdef __init__(self, imagePaths, transforms):\n",
        "\t\t# store the image and mask filepaths, and augmentation transforms\n",
        "\t\tself.imagePaths = imagePaths\n",
        "\t\tself.transforms = transforms\n",
        "\n",
        "\t# return the number of total samples contained in the dataset\n",
        "\tdef __len__(self):\n",
        "\t\treturn len(self.imagePaths)\n",
        "\t\n",
        "\tdef __getitem__(self, idx):\n",
        "\t\t# grab the image path from the current index\n",
        "\t\timagePath = self.imagePaths[idx]\n",
        "\t\t# load the image from disk, swap its channels from BGR to RGB,\n",
        "\t\t# and read the associated mask from disk in grayscale mode\n",
        "\t\timage = np.load(imagePath)\n",
        "\t\t#image = cv2.cvtColor(image, cv2.COLOR_BGR2RGB)\n",
        "\t\t#mask = np.load(self.maskPaths[idx], 0)\n",
        "\t\n",
        "\t\t# check to see if we are applying any transformations\n",
        "\t\tif self.transforms is not None:\n",
        "\n",
        "\t\t\t# apply the transformations to both image and its mask\n",
        "\t\t\timage = self.transforms(image)\n",
        "\t\t# return a tuple of the image and its mask\n",
        "\t\treturn image\n",
        "\t\n",
        "class SegmentationDatasetTest(Dataset):\n",
        "\tdef __init__(self, maskPaths, transforms):\n",
        "\t\t# store the image and mask filepaths, and augmentation transforms\n",
        "\t\tself.maskPaths = maskPaths\n",
        "\t\tself.transforms = transforms\n",
        "\n",
        "\t# return the number of total samples contained in the dataset\n",
        "\tdef __len__(self):\n",
        "\t\treturn len(self.maskPaths)\n",
        "\t\n",
        "\tdef __getitem__(self, idx):\n",
        "\t\t# grab the image path from the current index\n",
        "\t\t# load the image from disk, swap its channels from BGR to RGB,\n",
        "\t\t# and read the associated mask from disk in grayscale mode\n",
        "\t\t#print(image)\n",
        "\t\t#image = cv2.cvtColor(image, cv2.COLOR_BGR2RGB)\n",
        "\t\tmask = np.load(self.maskPaths[idx], 0)\n",
        "\t\n",
        "\t\t# check to see if we are applying any transformations\n",
        "\t\tif self.transforms is not None:\n",
        "\n",
        "\t\t\t# apply the transformations to both image and its mask\n",
        "\t\t\tmask = self.transforms(mask)\n",
        "\t\t# return a tuple of the image and its mask\n",
        "\t\treturn mask\n",
        "\t"
      ],
      "metadata": {
        "id": "CNW8t6WVtx5g"
      },
      "execution_count": 4,
      "outputs": []
    },
    {
      "cell_type": "code",
      "source": [
        "from torch.nn import ConvTranspose2d\n",
        "from torch.nn import Conv2d\n",
        "from torch.nn import MaxPool2d\n",
        "from torch.nn import Module\n",
        "from torch.nn import ModuleList\n",
        "from torch.nn import ReLU\n",
        "from torchvision.transforms import CenterCrop\n",
        "from torch.nn import functional as F\n",
        "import torch\n",
        "\n",
        "class Block(Module):\n",
        "\tdef __init__(self, inChannels, outChannels):\n",
        "\t\tsuper().__init__()\n",
        "\t\t# store the convolution and RELU layers\n",
        "\t\tself.conv1 = Conv2d(inChannels, outChannels, 3)\n",
        "\t\tself.relu = ReLU()\n",
        "\t\tself.conv2 = Conv2d(outChannels, outChannels, 3)\n",
        "\tdef forward(self, x):\n",
        "\t\t# apply CONV => RELU => CONV block to the inputs and return it\n",
        "\t\treturn self.conv2(self.relu(self.conv1(x)))\n",
        "\t\n",
        "class Encoder(Module):\n",
        "\tdef __init__(self, channels=(3, 16, 32, 64)):\n",
        "\t\tsuper().__init__()\n",
        "\t\t# store the encoder blocks and maxpooling layer\n",
        "\t\tself.encBlocks = ModuleList(\n",
        "\t\t\t[Block(channels[i], channels[i + 1])\n",
        "\t\t\t \tfor i in range(len(channels) - 1)])\n",
        "\t\tself.pool = MaxPool2d(2)\n",
        "\t\n",
        "\tdef forward(self, x):\n",
        "\t\t# initialize an empty list to store the intermediate outputs\n",
        "\t\tblockOutputs = []\n",
        "\t\t# loop through the encoder blocks\n",
        "\t\tfor block in self.encBlocks:\n",
        "\t\t\t# pass the inputs through the current encoder block, store\n",
        "\t\t\t# the outputs, and then apply maxpooling on the output\n",
        "\t\t\tx = block(x)\n",
        "\t\t\tblockOutputs.append(x)\n",
        "\t\t\tx = self.pool(x)\n",
        "\t\t# return the list containing the intermediate outputs\n",
        "\t\treturn blockOutputs\n",
        "\t\n",
        "class Decoder(Module):\n",
        "\tdef __init__(self, channels=(64, 32, 16)):\n",
        "\t\tsuper().__init__()\n",
        "\t\t# initialize the number of channels, upsampler blocks, and\n",
        "\t\t# decoder blocks\n",
        "\t\tself.channels = channels\n",
        "\t\tself.upconvs = ModuleList(\n",
        "\t\t\t[ConvTranspose2d(channels[i], channels[i + 1], 2, 2)\n",
        "\t\t\t \tfor i in range(len(channels) - 1)])\n",
        "\t\tself.dec_blocks = ModuleList(\n",
        "\t\t\t[Block(channels[i], channels[i + 1])\n",
        "\t\t\t \tfor i in range(len(channels) - 1)])\n",
        "\tdef forward(self, x, encFeatures):\n",
        "\t\t# loop through the number of channels\n",
        "\t\tfor i in range(len(self.channels) - 1):\n",
        "\t\t\t# pass the inputs through the upsampler blocks\n",
        "\t\t\tx = self.upconvs[i](x)\n",
        "\t\t\t# crop the current features from the encoder blocks,\n",
        "\t\t\t# concatenate them with the current upsampled features,\n",
        "\t\t\t# and pass the concatenated output through the current\n",
        "\t\t\t# decoder block\n",
        "\t\t\tencFeat = self.crop(encFeatures[i], x)\n",
        "\t\t\tx = torch.cat([x, encFeat], dim=1)\n",
        "\t\t\tx = self.dec_blocks[i](x)\n",
        "\t\t# return the final decoder output\n",
        "\t\treturn x\n",
        "\n",
        "\tdef crop(self, encFeatures, x):\n",
        "\t\t# grab the dimensions of the inputs, and crop the encoder\n",
        "\t\t# features to match the dimensions\n",
        "\t\t(_, _, H, W) = x.shape\n",
        "\t\tencFeatures = CenterCrop([H, W])(encFeatures)\n",
        "\t\t# return the cropped features\n",
        "\t\treturn encFeatures\n",
        "\t\n",
        "    \n",
        "class UNet(Module):\n",
        "\tdef __init__(self, encChannels=(3, 16, 32, 64),\n",
        "\t\t decChannels=(64, 32, 16),\n",
        "\t\t nbClasses=1, retainDim=True,\n",
        "\t\t outSize=(INPUT_IMAGE_HEIGHT,  INPUT_IMAGE_WIDTH)):\n",
        "\t\tsuper().__init__()\n",
        "\t\n",
        "\t\t# initialize the encoder and decoder\n",
        "\t\tself.encoder = Encoder(encChannels)\n",
        "\t\tself.decoder = Decoder(decChannels)\n",
        "\t\n",
        "\t\t# initialize the regression head and store the class variables\n",
        "\t\tself.head = Conv2d(decChannels[-1], nbClasses, 1)\n",
        "\t\tself.retainDim = retainDim\n",
        "\t\tself.outSize = outSize\n",
        "        \n",
        "\tdef forward(self, x):\n",
        "\t\t# grab the features from the encoder\n",
        "\t\tencFeatures = self.encoder(x)\n",
        "\t\t# pass the encoder features through decoder making sure that\n",
        "\t\t# their dimensions are suited for concatenation\n",
        "\t\tdecFeatures = self.decoder(encFeatures[::-1][0],\n",
        "\t\t\tencFeatures[::-1][1:])\n",
        "\t\t# pass the decoder features through the regression head to\n",
        "\t\t# obtain the segmentation mask\n",
        "\t\tmap = self.head(decFeatures)\n",
        "\t\n",
        "\t\t# check to see if we are retaining the original output\n",
        "\t\t# dimensions and if so, then resize the output to match them\n",
        "\t\tif self.retainDim:\n",
        "\t\t\tmap = F.interpolate(map, self.outSize)\n",
        "\t\t# return the segmentation map\n",
        "\t\treturn map"
      ],
      "metadata": {
        "id": "CHRZrqNgtykr"
      },
      "execution_count": 9,
      "outputs": []
    },
    {
      "cell_type": "code",
      "source": [
        "from torch.nn import BCEWithLogitsLoss\n",
        "from torch.optim import Adam\n",
        "from torch.utils.data import DataLoader\n",
        "from sklearn.model_selection import train_test_split\n",
        "from torchvision import transforms\n",
        "from imutils import paths\n",
        "from tqdm import tqdm\n",
        "import matplotlib.pyplot as plt\n",
        "import torch\n",
        "import time\n",
        "import os\n",
        "\n",
        "# load the image and mask filepaths in a sorted manner\n",
        "imagePathsTrain = sorted(list(paths.list_files(IMAGE_TRAIN_DATASET_PATH)))\n",
        "#maskPaths = sorted(list(paths.list_images(MASK_TRAIN_DATASET_PATH)))\n",
        "\n",
        "maskPathsTest = sorted(list(paths.list_files(MASK_TEST_DATASET_PATH)))\n",
        "\n",
        "# write the testing image paths to disk so that we can use then\n",
        "# when evaluating/testing our model\n",
        "#print(\"[INFO] saving testing image paths...\")\n",
        "#f = open(TEST_PATHS, \"w\")\n",
        "#f.write(\"\\n\".join(testImages))\n",
        "#f.close()\n",
        "\n",
        "# define transformations\n",
        "transforms = transforms.Compose([transforms.ToPILImage(),\n",
        " \ttransforms.Resize((INPUT_IMAGE_HEIGHT,\n",
        "\t\tINPUT_IMAGE_WIDTH)),\n",
        "\ttransforms.ToTensor()])\n",
        "\n",
        "# create the train and test datasets\n",
        "trainDS = SegmentationDatasetTrain(imagePaths=imagePathsTrain,transforms=transforms)\n",
        "\n",
        "testDS = SegmentationDatasetTest( maskPaths=maskPathsTest,transforms=transforms)\n",
        "print(f\"[INFO] found {len(trainDS)} examples in the training set...\")\n",
        "print(f\"[INFO] found {len(testDS)} examples in the test set...\")\n",
        "\n",
        "# create the training and test data loaders\n",
        "trainLoader = DataLoader(trainDS, shuffle=True,\n",
        "\tbatch_size=BATCH_SIZE, pin_memory=PIN_MEMORY,\n",
        "\tnum_workers=os.cpu_count())\n",
        "testLoader = DataLoader(testDS, shuffle=False,\n",
        "\tbatch_size=BATCH_SIZE, pin_memory=PIN_MEMORY,\n",
        "\tnum_workers=os.cpu_count())\n",
        "\n",
        "\n",
        "# initialize our UNet model\n",
        "unet = UNet().to(DEVICE)\n",
        "\n",
        "# initialize loss function and optimizer\n",
        "lossFunc = BCEWithLogitsLoss()\n",
        "opt = Adam(unet.parameters(), lr=INIT_LR)\n",
        "# calculate steps per epoch for training and test set\n",
        "trainSteps = len(trainDS) // BATCH_SIZE\n",
        "testSteps = len(testDS) // BATCH_SIZE\n",
        "# initialize a dictionary to store training history\n",
        "H = {\"train_loss\": [], \"test_loss\": []}\n",
        "\n",
        "# loop over epochs\n",
        "print(\"[INFO] training the network...\")\n",
        "startTime = time.time()\n",
        "for e in tqdm(range(NUM_EPOCHS)):\n",
        "\n",
        "\t# set the model in training mode\n",
        "\tunet.train()\n",
        " \t# initialize the total training and validation loss\n",
        "\ttotalTrainLoss = 0\n",
        "\ttotalTestLoss = 0\n",
        "\t# loop over the training set\n",
        "\tfor (i, (x, y)) in enumerate(trainLoader):\n",
        "\t\t# send the input to the device\n",
        "\t\tprint('okokokokok')\n",
        "\t\t(x, y) = (x.to(DEVICE), y.to(DEVICE))\n",
        "\t\t# perform a forward pass and calculate the training loss\n",
        "\t\tpred = unet(x)\n",
        "\t\tloss = lossFunc(pred, y)\n",
        "\t\n",
        "\t\t# first, zero out any previously accumulated gradients, then\n",
        "\t\t# perform backpropagation, and then update model parameters\n",
        "\t\topt.zero_grad()\n",
        "\t\tloss.backward()\n",
        "\t\topt.step()\n",
        "\t\t# add the loss to the total training loss so far\n",
        "\t\ttotalTrainLoss += loss\n",
        "\n",
        "\t# switch off autograd\n",
        "\twith torch.no_grad():\n",
        "\t\t# set the model in evaluation mode\n",
        "\t\tunet.eval()\n",
        "\t\t# loop over the validation set\n",
        "\t\tfor (x, y) in testLoader:\n",
        "\t\t\t# send the input to the device\n",
        "\t\t\t(x, y) = (x.to(DEVICE), y.to(DEVICE))\n",
        "\t\t\t# make the predictions and calculate the validation loss\n",
        "\t\t\tpred = unet(x)\n",
        "\t\t\ttotalTestLoss += lossFunc(pred, y)\n",
        "\t \n",
        "\t# calculate the average training and validation loss\n",
        "\tavgTrainLoss = totalTrainLoss / trainSteps\n",
        "\tavgTestLoss = totalTestLoss / testSteps\n",
        "\n",
        "\t# update our training history\n",
        "\tH[\"train_loss\"].append(avgTrainLoss.cpu().detach().numpy())\n",
        "\tH[\"test_loss\"].append(avgTestLoss.cpu().detach().numpy())\n",
        "\t# print the model training and validation information\n",
        "\tprint(\"[INFO] EPOCH: {}/{}\".format(e + 1, NUM_EPOCHS))\n",
        "\tprint(\"Train loss: {:.6f}, Test loss: {:.4f}\".format(\n",
        "\t\tavgTrainLoss, avgTestLoss))\n",
        " \n",
        "# display the total time needed to perform the training\n",
        "endTime = time.time()\n",
        "print(\"[INFO] total time taken to train the model: {:.2f}s\".format(\n",
        "\tendTime - startTime))\n",
        "\n"
      ],
      "metadata": {
        "id": "H-EO8fKTtynq",
        "colab": {
          "base_uri": "https://localhost:8080/",
          "height": 728
        },
        "outputId": "f8db0d58-fa85-4565-e30e-4fda7eee030d"
      },
      "execution_count": 8,
      "outputs": [
        {
          "output_type": "stream",
          "name": "stdout",
          "text": [
            "[INFO] found 654 examples in the training set...\n",
            "[INFO] found 161 examples in the test set...\n",
            "[INFO] training the network...\n"
          ]
        },
        {
          "output_type": "stream",
          "name": "stderr",
          "text": [
            "  0%|          | 0/40 [00:00<?, ?it/s]\n"
          ]
        },
        {
          "output_type": "error",
          "ename": "ValueError",
          "evalue": "ignored",
          "traceback": [
            "\u001b[0;31m---------------------------------------------------------------------------\u001b[0m",
            "\u001b[0;31mValueError\u001b[0m                                Traceback (most recent call last)",
            "\u001b[0;32m<ipython-input-8-196a47fc6d5a>\u001b[0m in \u001b[0;36m<cell line: 63>\u001b[0;34m()\u001b[0m\n\u001b[1;32m     69\u001b[0m         \u001b[0mtotalTestLoss\u001b[0m \u001b[0;34m=\u001b[0m \u001b[0;36m0\u001b[0m\u001b[0;34m\u001b[0m\u001b[0;34m\u001b[0m\u001b[0m\n\u001b[1;32m     70\u001b[0m         \u001b[0;31m# loop over the training set\u001b[0m\u001b[0;34m\u001b[0m\u001b[0;34m\u001b[0m\u001b[0m\n\u001b[0;32m---> 71\u001b[0;31m         \u001b[0;32mfor\u001b[0m \u001b[0;34m(\u001b[0m\u001b[0mi\u001b[0m\u001b[0;34m,\u001b[0m \u001b[0;34m(\u001b[0m\u001b[0mx\u001b[0m\u001b[0;34m,\u001b[0m \u001b[0my\u001b[0m\u001b[0;34m)\u001b[0m\u001b[0;34m)\u001b[0m \u001b[0;32min\u001b[0m \u001b[0menumerate\u001b[0m\u001b[0;34m(\u001b[0m\u001b[0mtrainLoader\u001b[0m\u001b[0;34m)\u001b[0m\u001b[0;34m:\u001b[0m\u001b[0;34m\u001b[0m\u001b[0;34m\u001b[0m\u001b[0m\n\u001b[0m\u001b[1;32m     72\u001b[0m                 \u001b[0;31m# send the input to the device\u001b[0m\u001b[0;34m\u001b[0m\u001b[0;34m\u001b[0m\u001b[0m\n\u001b[1;32m     73\u001b[0m                 \u001b[0mprint\u001b[0m\u001b[0;34m(\u001b[0m\u001b[0;34m'okokokokok'\u001b[0m\u001b[0;34m)\u001b[0m\u001b[0;34m\u001b[0m\u001b[0;34m\u001b[0m\u001b[0m\n",
            "\u001b[0;32m/usr/local/lib/python3.10/dist-packages/torch/utils/data/dataloader.py\u001b[0m in \u001b[0;36m__next__\u001b[0;34m(self)\u001b[0m\n\u001b[1;32m    632\u001b[0m                 \u001b[0;31m# TODO(https://github.com/pytorch/pytorch/issues/76750)\u001b[0m\u001b[0;34m\u001b[0m\u001b[0;34m\u001b[0m\u001b[0m\n\u001b[1;32m    633\u001b[0m                 \u001b[0mself\u001b[0m\u001b[0;34m.\u001b[0m\u001b[0m_reset\u001b[0m\u001b[0;34m(\u001b[0m\u001b[0;34m)\u001b[0m  \u001b[0;31m# type: ignore[call-arg]\u001b[0m\u001b[0;34m\u001b[0m\u001b[0;34m\u001b[0m\u001b[0m\n\u001b[0;32m--> 634\u001b[0;31m             \u001b[0mdata\u001b[0m \u001b[0;34m=\u001b[0m \u001b[0mself\u001b[0m\u001b[0;34m.\u001b[0m\u001b[0m_next_data\u001b[0m\u001b[0;34m(\u001b[0m\u001b[0;34m)\u001b[0m\u001b[0;34m\u001b[0m\u001b[0;34m\u001b[0m\u001b[0m\n\u001b[0m\u001b[1;32m    635\u001b[0m             \u001b[0mself\u001b[0m\u001b[0;34m.\u001b[0m\u001b[0m_num_yielded\u001b[0m \u001b[0;34m+=\u001b[0m \u001b[0;36m1\u001b[0m\u001b[0;34m\u001b[0m\u001b[0;34m\u001b[0m\u001b[0m\n\u001b[1;32m    636\u001b[0m             \u001b[0;32mif\u001b[0m \u001b[0mself\u001b[0m\u001b[0;34m.\u001b[0m\u001b[0m_dataset_kind\u001b[0m \u001b[0;34m==\u001b[0m \u001b[0m_DatasetKind\u001b[0m\u001b[0;34m.\u001b[0m\u001b[0mIterable\u001b[0m \u001b[0;32mand\u001b[0m\u001b[0;31m \u001b[0m\u001b[0;31m\\\u001b[0m\u001b[0;34m\u001b[0m\u001b[0;34m\u001b[0m\u001b[0m\n",
            "\u001b[0;32m/usr/local/lib/python3.10/dist-packages/torch/utils/data/dataloader.py\u001b[0m in \u001b[0;36m_next_data\u001b[0;34m(self)\u001b[0m\n\u001b[1;32m   1344\u001b[0m             \u001b[0;32melse\u001b[0m\u001b[0;34m:\u001b[0m\u001b[0;34m\u001b[0m\u001b[0;34m\u001b[0m\u001b[0m\n\u001b[1;32m   1345\u001b[0m                 \u001b[0;32mdel\u001b[0m \u001b[0mself\u001b[0m\u001b[0;34m.\u001b[0m\u001b[0m_task_info\u001b[0m\u001b[0;34m[\u001b[0m\u001b[0midx\u001b[0m\u001b[0;34m]\u001b[0m\u001b[0;34m\u001b[0m\u001b[0;34m\u001b[0m\u001b[0m\n\u001b[0;32m-> 1346\u001b[0;31m                 \u001b[0;32mreturn\u001b[0m \u001b[0mself\u001b[0m\u001b[0;34m.\u001b[0m\u001b[0m_process_data\u001b[0m\u001b[0;34m(\u001b[0m\u001b[0mdata\u001b[0m\u001b[0;34m)\u001b[0m\u001b[0;34m\u001b[0m\u001b[0;34m\u001b[0m\u001b[0m\n\u001b[0m\u001b[1;32m   1347\u001b[0m \u001b[0;34m\u001b[0m\u001b[0m\n\u001b[1;32m   1348\u001b[0m     \u001b[0;32mdef\u001b[0m \u001b[0m_try_put_index\u001b[0m\u001b[0;34m(\u001b[0m\u001b[0mself\u001b[0m\u001b[0;34m)\u001b[0m\u001b[0;34m:\u001b[0m\u001b[0;34m\u001b[0m\u001b[0;34m\u001b[0m\u001b[0m\n",
            "\u001b[0;32m/usr/local/lib/python3.10/dist-packages/torch/utils/data/dataloader.py\u001b[0m in \u001b[0;36m_process_data\u001b[0;34m(self, data)\u001b[0m\n\u001b[1;32m   1370\u001b[0m         \u001b[0mself\u001b[0m\u001b[0;34m.\u001b[0m\u001b[0m_try_put_index\u001b[0m\u001b[0;34m(\u001b[0m\u001b[0;34m)\u001b[0m\u001b[0;34m\u001b[0m\u001b[0;34m\u001b[0m\u001b[0m\n\u001b[1;32m   1371\u001b[0m         \u001b[0;32mif\u001b[0m \u001b[0misinstance\u001b[0m\u001b[0;34m(\u001b[0m\u001b[0mdata\u001b[0m\u001b[0;34m,\u001b[0m \u001b[0mExceptionWrapper\u001b[0m\u001b[0;34m)\u001b[0m\u001b[0;34m:\u001b[0m\u001b[0;34m\u001b[0m\u001b[0;34m\u001b[0m\u001b[0m\n\u001b[0;32m-> 1372\u001b[0;31m             \u001b[0mdata\u001b[0m\u001b[0;34m.\u001b[0m\u001b[0mreraise\u001b[0m\u001b[0;34m(\u001b[0m\u001b[0;34m)\u001b[0m\u001b[0;34m\u001b[0m\u001b[0;34m\u001b[0m\u001b[0m\n\u001b[0m\u001b[1;32m   1373\u001b[0m         \u001b[0;32mreturn\u001b[0m \u001b[0mdata\u001b[0m\u001b[0;34m\u001b[0m\u001b[0;34m\u001b[0m\u001b[0m\n\u001b[1;32m   1374\u001b[0m \u001b[0;34m\u001b[0m\u001b[0m\n",
            "\u001b[0;32m/usr/local/lib/python3.10/dist-packages/torch/_utils.py\u001b[0m in \u001b[0;36mreraise\u001b[0;34m(self)\u001b[0m\n\u001b[1;32m    642\u001b[0m             \u001b[0;31m# instantiate since we don't know how to\u001b[0m\u001b[0;34m\u001b[0m\u001b[0;34m\u001b[0m\u001b[0m\n\u001b[1;32m    643\u001b[0m             \u001b[0;32mraise\u001b[0m \u001b[0mRuntimeError\u001b[0m\u001b[0;34m(\u001b[0m\u001b[0mmsg\u001b[0m\u001b[0;34m)\u001b[0m \u001b[0;32mfrom\u001b[0m \u001b[0;32mNone\u001b[0m\u001b[0;34m\u001b[0m\u001b[0;34m\u001b[0m\u001b[0m\n\u001b[0;32m--> 644\u001b[0;31m         \u001b[0;32mraise\u001b[0m \u001b[0mexception\u001b[0m\u001b[0;34m\u001b[0m\u001b[0;34m\u001b[0m\u001b[0m\n\u001b[0m\u001b[1;32m    645\u001b[0m \u001b[0;34m\u001b[0m\u001b[0m\n\u001b[1;32m    646\u001b[0m \u001b[0;34m\u001b[0m\u001b[0m\n",
            "\u001b[0;31mValueError\u001b[0m: Caught ValueError in DataLoader worker process 0.\nOriginal Traceback (most recent call last):\n  File \"/usr/local/lib/python3.10/dist-packages/torch/utils/data/_utils/worker.py\", line 308, in _worker_loop\n    data = fetcher.fetch(index)\n  File \"/usr/local/lib/python3.10/dist-packages/torch/utils/data/_utils/fetch.py\", line 51, in fetch\n    data = [self.dataset[idx] for idx in possibly_batched_index]\n  File \"/usr/local/lib/python3.10/dist-packages/torch/utils/data/_utils/fetch.py\", line 51, in <listcomp>\n    data = [self.dataset[idx] for idx in possibly_batched_index]\n  File \"<ipython-input-4-27e917ba70f6>\", line 28, in __getitem__\n    image = self.transforms(image)\n  File \"/usr/local/lib/python3.10/dist-packages/torchvision/transforms/transforms.py\", line 95, in __call__\n    img = t(img)\n  File \"/usr/local/lib/python3.10/dist-packages/torchvision/transforms/transforms.py\", line 234, in __call__\n    return F.to_pil_image(pic, self.mode)\n  File \"/usr/local/lib/python3.10/dist-packages/torchvision/transforms/functional.py\", line 286, in to_pil_image\n    raise ValueError(f\"pic should not have > 4 channels. Got {pic.shape[-1]} channels.\")\nValueError: pic should not have > 4 channels. Got 10 channels.\n"
          ]
        }
      ]
    },
    {
      "cell_type": "code",
      "source": [
        "# plot the training loss\n",
        "plt.style.use(\"ggplot\")\n",
        "plt.figure()\n",
        "plt.plot(H[\"train_loss\"], label=\"train_loss\")\n",
        "plt.plot(H[\"test_loss\"], label=\"test_loss\")\n",
        "plt.title(\"Training Loss on Dataset\")\n",
        "plt.xlabel(\"Epoch #\")\n",
        "plt.ylabel(\"Loss\")\n",
        "plt.legend(loc=\"lower left\")\n",
        "plt.savefig(PLOT_PATH)\n",
        "# serialize the model to disk\n",
        "torch.save(unet, MODEL_PATH)\n",
        "\n",
        "\n"
      ],
      "metadata": {
        "id": "5h-fGDx8tyqy"
      },
      "execution_count": null,
      "outputs": []
    },
    {
      "cell_type": "code",
      "source": [
        "import matplotlib.pyplot as plt\n",
        "import numpy as np\n",
        "import torch\n",
        "import cv2\n",
        "import os\n",
        "\n",
        "def prepare_plot(origImage, origMask, predMask):\n",
        "\t# initialize our figure\n",
        "\tfigure, ax = plt.subplots(nrows=1, ncols=3, figsize=(10, 10))\n",
        "\t# plot the original image, its mask, and the predicted mask\n",
        "\tax[0].imshow(origImage)\n",
        "\tax[1].imshow(origMask)\n",
        "\tax[2].imshow(predMask)\n",
        "\t# set the titles of the subplots\n",
        "\tax[0].set_title(\"Image\")\n",
        "\tax[1].set_title(\"Original Mask\")\n",
        "\tax[2].set_title(\"Predicted Mask\")\n",
        "\t# set the layout of the figure and display it\n",
        "\tfigure.tight_layout()\n",
        "\tfigure.show()\n",
        "\t\n",
        "def make_predictions(model, imagePath):\n",
        "\t# set model to evaluation mode\n",
        "\tmodel.eval()\n",
        "\t# turn off gradient tracking\n",
        "\twith torch.no_grad():\n",
        "\t\t# load the image from disk, swap its color channels, cast it\n",
        "\t\t# to float data type, and scale its pixel values\n",
        "\t\timage = cv2.imread(imagePath)\n",
        "\t\timage = cv2.cvtColor(image, cv2.COLOR_BGR2RGB)\n",
        "\t\timage = image.astype(\"float32\") / 255.0\n",
        "\n",
        "\t\t# resize the image and make a copy of it for visualization\n",
        "\t\timage = cv2.resize(image, (128, 128))\n",
        "\t\torig = image.copy()\n",
        "\t\t# find the filename and generate the path to ground truth\n",
        "\t\t# mask\n",
        "\t\tfilename = imagePath.split(os.path.sep)[-1]\n",
        "\t\tgroundTruthPath = os.path.join(MASK_DATASET_PATH,\n",
        "\t\t\tfilename)\n",
        "\t\t# load the ground-truth segmentation mask in grayscale mode\n",
        "\t\t# and resize it\n",
        "\t\tgtMask = cv2.imread(groundTruthPath, 0)\n",
        "\t\tgtMask = cv2.resize(gtMask, (INPUT_IMAGE_HEIGHT,\n",
        "\t\t\tINPUT_IMAGE_HEIGHT))\n",
        "\t\t\n",
        "        \t\t# make the channel axis to be the leading one, add a batch\n",
        "\t\t# dimension, create a PyTorch tensor, and flash it to the\n",
        "\t\t# current device\n",
        "\t\timage = np.transpose(image, (2, 0, 1))\n",
        "\t\timage = np.expand_dims(image, 0)\n",
        "\t\timage = torch.from_numpy(image).to(DEVICE)\n",
        "\t\t# make the prediction, pass the results through the sigmoid\n",
        "\t\t# function, and convert the result to a NumPy array\n",
        "\t\tpredMask = model(image).squeeze()\n",
        "\t\tpredMask = torch.sigmoid(predMask)\n",
        "\t\tpredMask = predMask.cpu().numpy()\n",
        "\t\t# filter out the weak predictions and convert them to integers\n",
        "\t\tpredMask = (predMask > THRESHOLD) * 255\n",
        "\t\tpredMask = predMask.astype(np.uint8)\n",
        "\t\t# prepare a plot for visualization\n",
        "\t\tprepare_plot(orig, gtMask, predMask)\n",
        "\t\t\n",
        "\n",
        "\n",
        "# load the image paths in our testing file and randomly select 10\n",
        "# image paths\n",
        "print(\"[INFO] loading up test image paths...\")\n",
        "imagePaths = open(TEST_PATHS).read().strip().split(\"\\n\")\n",
        "imagePaths = np.random.choice(imagePaths, size=10)\n",
        "# load our model from disk and flash it to the current device\n",
        "print(\"[INFO] load up model...\")\n",
        "unet = torch.load(MODEL_PATH).to(DEVICE)\n",
        "# iterate over the randomly selected test image paths\n",
        "for path in imagePaths:\n",
        "\t# make predictions and visualize the results\n",
        "\tmake_predictions(unet, path)\n",
        "\t\n"
      ],
      "metadata": {
        "id": "l59gTwBXtyty"
      },
      "execution_count": null,
      "outputs": []
    },
    {
      "cell_type": "code",
      "source": [],
      "metadata": {
        "id": "if-47Hm4tyxC"
      },
      "execution_count": null,
      "outputs": []
    },
    {
      "cell_type": "code",
      "source": [],
      "metadata": {
        "id": "eUWbHTMXtyzf"
      },
      "execution_count": null,
      "outputs": []
    },
    {
      "cell_type": "code",
      "source": [],
      "metadata": {
        "id": "4OUgrlPGty2q"
      },
      "execution_count": null,
      "outputs": []
    },
    {
      "cell_type": "code",
      "source": [],
      "metadata": {
        "id": "rTRyTzeKty5S"
      },
      "execution_count": null,
      "outputs": []
    },
    {
      "cell_type": "code",
      "source": [],
      "metadata": {
        "id": "kze8sCUdty76"
      },
      "execution_count": null,
      "outputs": []
    },
    {
      "cell_type": "code",
      "source": [],
      "metadata": {
        "id": "511mSaV0ty-u"
      },
      "execution_count": null,
      "outputs": []
    },
    {
      "cell_type": "code",
      "source": [],
      "metadata": {
        "id": "JEFNYha1tzB1"
      },
      "execution_count": null,
      "outputs": []
    },
    {
      "cell_type": "code",
      "source": [],
      "metadata": {
        "id": "qaFg1QoGtzFB"
      },
      "execution_count": null,
      "outputs": []
    },
    {
      "cell_type": "code",
      "source": [],
      "metadata": {
        "id": "53-HhJFOtzHt"
      },
      "execution_count": null,
      "outputs": []
    },
    {
      "cell_type": "code",
      "source": [],
      "metadata": {
        "id": "N4JDa1lTtzKu"
      },
      "execution_count": null,
      "outputs": []
    },
    {
      "cell_type": "code",
      "source": [],
      "metadata": {
        "id": "rv_P1bX6tzNr"
      },
      "execution_count": null,
      "outputs": []
    },
    {
      "cell_type": "code",
      "source": [],
      "metadata": {
        "id": "G0fwuXDitzQx"
      },
      "execution_count": null,
      "outputs": []
    },
    {
      "cell_type": "code",
      "source": [],
      "metadata": {
        "id": "1Ht076mttzT8"
      },
      "execution_count": null,
      "outputs": []
    },
    {
      "cell_type": "code",
      "source": [],
      "metadata": {
        "id": "mSSa2vzjtzWu"
      },
      "execution_count": null,
      "outputs": []
    },
    {
      "cell_type": "code",
      "source": [],
      "metadata": {
        "id": "IfPRI29stzZt"
      },
      "execution_count": null,
      "outputs": []
    },
    {
      "cell_type": "code",
      "source": [],
      "metadata": {
        "id": "F-DeLDcXtzdG"
      },
      "execution_count": null,
      "outputs": []
    },
    {
      "cell_type": "code",
      "source": [],
      "metadata": {
        "id": "qK8nrPMytzf0"
      },
      "execution_count": null,
      "outputs": []
    },
    {
      "cell_type": "code",
      "source": [],
      "metadata": {
        "id": "qPmwCuJDtzix"
      },
      "execution_count": null,
      "outputs": []
    },
    {
      "cell_type": "code",
      "source": [],
      "metadata": {
        "id": "LCShjiNytzmK"
      },
      "execution_count": null,
      "outputs": []
    },
    {
      "cell_type": "code",
      "source": [],
      "metadata": {
        "id": "FSiaJweRtzpP"
      },
      "execution_count": null,
      "outputs": []
    },
    {
      "cell_type": "code",
      "source": [],
      "metadata": {
        "id": "sAzzQRZotzsW"
      },
      "execution_count": null,
      "outputs": []
    },
    {
      "cell_type": "code",
      "source": [],
      "metadata": {
        "id": "MdmJlt5_tzvU"
      },
      "execution_count": null,
      "outputs": []
    },
    {
      "cell_type": "code",
      "source": [],
      "metadata": {
        "id": "F-z7X3LdtzyX"
      },
      "execution_count": null,
      "outputs": []
    },
    {
      "cell_type": "code",
      "source": [],
      "metadata": {
        "id": "9lg6yVqmtz2B"
      },
      "execution_count": null,
      "outputs": []
    },
    {
      "cell_type": "code",
      "source": [],
      "metadata": {
        "id": "xtvtPWiktz5M"
      },
      "execution_count": null,
      "outputs": []
    },
    {
      "cell_type": "code",
      "source": [],
      "metadata": {
        "id": "JqO30DJOtz8Y"
      },
      "execution_count": null,
      "outputs": []
    },
    {
      "cell_type": "code",
      "source": [],
      "metadata": {
        "id": "_jzhdPFBtz_Y"
      },
      "execution_count": null,
      "outputs": []
    },
    {
      "cell_type": "code",
      "source": [],
      "metadata": {
        "id": "ysBYjooEt0CQ"
      },
      "execution_count": null,
      "outputs": []
    },
    {
      "cell_type": "code",
      "source": [],
      "metadata": {
        "id": "nY7XCa_yt0Fo"
      },
      "execution_count": null,
      "outputs": []
    },
    {
      "cell_type": "code",
      "source": [],
      "metadata": {
        "id": "jugsZEhht0IO"
      },
      "execution_count": null,
      "outputs": []
    },
    {
      "cell_type": "code",
      "source": [],
      "metadata": {
        "id": "M0049U-9t0K5"
      },
      "execution_count": null,
      "outputs": []
    }
  ]
}