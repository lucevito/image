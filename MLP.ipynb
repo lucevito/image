{
  "nbformat": 4,
  "nbformat_minor": 0,
  "metadata": {
    "colab": {
      "provenance": [],
      "gpuType": "T4",
      "include_colab_link": true
    },
    "kernelspec": {
      "name": "python3",
      "display_name": "Python 3"
    },
    "language_info": {
      "name": "python"
    },
    "accelerator": "GPU"
  },
  "cells": [
    {
      "cell_type": "markdown",
      "metadata": {
        "id": "view-in-github",
        "colab_type": "text"
      },
      "source": [
        "<a href=\"https://colab.research.google.com/github/lucevito/image/blob/main/MLP.ipynb\" target=\"_parent\"><img src=\"https://colab.research.google.com/assets/colab-badge.svg\" alt=\"Open In Colab\"/></a>"
      ]
    },
    {
      "cell_type": "code",
      "execution_count": 1,
      "metadata": {
        "colab": {
          "base_uri": "https://localhost:8080/"
        },
        "id": "H6cm4yTyDP7C",
        "outputId": "ea19189f-d795-4157-e214-a0e91ca8597a"
      },
      "outputs": [
        {
          "output_type": "stream",
          "name": "stdout",
          "text": [
            "Mounted at /content/drive\n",
            "/content/drive/MyDrive\n"
          ]
        }
      ],
      "source": [
        "from google.colab import drive\n",
        "drive.mount('/content/drive')\n",
        "%cd drive/MyDrive"
      ]
    },
    {
      "cell_type": "code",
      "source": [
        "def printPlotLoss(history, d):\n",
        "    loss = history.history['loss']\n",
        "    val_loss = history.history['val_loss']\n",
        "    epochs = range(1, len(loss) + 1)\n",
        "    plt.plot(epochs, loss, 'b', label='Training loss')\n",
        "    plt.plot(epochs, val_loss, 'r', label='Validation loss')\n",
        "    plt.title('Training and validation loss')\n",
        "    plt.legend()\n",
        "    #plt.savefig(\"plotLoss\" + str(d) + \".png\")\n",
        "    plt.show()\n",
        "    plt.close()\n",
        "\n",
        "def printPlotAccuracy(history, d):\n",
        "    acc = history.history['accuracy']\n",
        "    val_acc = history.history['val_accuracy']\n",
        "    epochs = range(1, len(acc) + 1)\n",
        "    plt.plot(epochs, acc, 'b', label='Training acc')\n",
        "    plt.plot(epochs, val_acc, 'r', label='Validation acc')\n",
        "    plt.title('Training and validation accuracy')\n",
        "    plt.legend()\n",
        "    #plt.savefig(\"plotAccuracy\" + str(d) + \".png\")\n",
        "    plt.show()\n",
        "    plt.close()"
      ],
      "metadata": {
        "id": "W5l7MDkHGisT"
      },
      "execution_count": 2,
      "outputs": []
    },
    {
      "cell_type": "code",
      "source": [
        "import glob\n",
        "import numpy as np\n",
        "import tensorflow as tf\n",
        "import matplotlib.pyplot as plt\n",
        "\n",
        "train_images_path = 'Immagini_satellitari/Train/images'\n",
        "train_masks_path = 'Immagini_satellitari/Train/masks'\n",
        "train_images_files = glob.glob(train_images_path + '/*.npy')\n",
        "train_masks_files = glob.glob(train_masks_path + '/*.npy')\n",
        "test_images_path = 'Immagini_satellitari/Test/images'\n",
        "test_masks_path = 'Immagini_satellitari/Test/masks'\n",
        "test_images_files = glob.glob(test_images_path + '/*.npy')\n",
        "test_masks_files = glob.glob(test_masks_path + '/*.npy')\n",
        "\n",
        "x_train = np.array([np.load(file) for file in train_images_files])\n",
        "y_train = np.array([np.load(file) for file in train_masks_files])\n",
        "x_test = np.array([np.load(file) for file in test_images_files])\n",
        "y_test = np.array([np.load(file) for file in test_masks_files])\n",
        "\n",
        "print('x_train :')\n",
        "print(x_train.shape)\n",
        "\n",
        "print('y_train :')\n",
        "print(y_train.shape)\n",
        "\n",
        "print('x_test :')\n",
        "print(x_test.shape)\n",
        "\n",
        "print('y_test :')\n",
        "print(y_test.shape)"
      ],
      "metadata": {
        "id": "JnvN2_VlDWT9",
        "colab": {
          "base_uri": "https://localhost:8080/"
        },
        "outputId": "942872a0-94d6-4530-c5fa-650a8cfa8e71"
      },
      "execution_count": 3,
      "outputs": [
        {
          "output_type": "stream",
          "name": "stdout",
          "text": [
            "x_train :\n",
            "(654, 32, 32, 10)\n",
            "y_train :\n",
            "(654, 32, 32)\n",
            "x_test :\n",
            "(161, 32, 32, 10)\n",
            "y_test :\n",
            "(161, 32, 32)\n"
          ]
        }
      ]
    },
    {
      "cell_type": "code",
      "source": [
        "print(\"RESHAPE : \\n\")\n",
        "print('x_train :')\n",
        "x_train = x_train.reshape(654 * 32 * 32, 10)\n",
        "print(x_train.shape)\n",
        "\n",
        "print('y_train :')\n",
        "y_train = y_train.reshape(654 * 32 * 32, 1)\n",
        "print(y_train.shape)\n",
        "\n",
        "print('x_test :')\n",
        "x_test = x_test.reshape(161 * 32 * 32, 10)\n",
        "print(x_test.shape)\n",
        "\n",
        "print('y_test :')\n",
        "y_test = y_test.reshape(161 * 32 * 32, 1)\n",
        "print(y_test.shape)"
      ],
      "metadata": {
        "id": "t1brmWJhRkLM",
        "colab": {
          "base_uri": "https://localhost:8080/"
        },
        "outputId": "bd98d4f4-2bb5-4340-983c-357f6da48f83"
      },
      "execution_count": 4,
      "outputs": [
        {
          "output_type": "stream",
          "name": "stdout",
          "text": [
            "RESHAPE : \n",
            "\n",
            "x_train :\n",
            "(669696, 10)\n",
            "y_train :\n",
            "(669696, 1)\n",
            "x_test :\n",
            "(164864, 10)\n",
            "y_test :\n",
            "(164864, 1)\n"
          ]
        }
      ]
    },
    {
      "cell_type": "code",
      "source": [
        "#poiche avevo questo avviso uso ravel()\n",
        "#<ipython-input-5-408a8381cb1e>:6: DataConversionWarning: A column-vector y was passed when a 1d array was expected.\n",
        "#Please change the shape of y to (n_samples,), for example using ravel().\n",
        "y_train = np.ravel(y_train)\n",
        "print(y_train.shape)"
      ],
      "metadata": {
        "colab": {
          "base_uri": "https://localhost:8080/"
        },
        "id": "Qn3MWWHHA9vz",
        "outputId": "92874735-2661-4da5-e074-d1f026837d6f"
      },
      "execution_count": 5,
      "outputs": [
        {
          "output_type": "stream",
          "name": "stdout",
          "text": [
            "(669696,)\n"
          ]
        }
      ]
    },
    {
      "cell_type": "code",
      "source": [
        "print(\"Max value before preprocessing:\" + str(np.amax(x_train)))\n",
        "from sklearn.preprocessing import MinMaxScaler\n",
        "scaler=MinMaxScaler()\n",
        "x_train=scaler.fit_transform(x_train)\n",
        "test_X=scaler.transform(x_test)\n",
        "print(\"Max value after preprocessing:\" + str(np.amax(x_train)))\n",
        "print(\"Shape of train X: \" + str(x_train.shape))\n",
        "print(\"Shape of train Y: \" + str(y_train.shape))\n",
        "print(\"Shape of test X: \" + str(x_test.shape))\n",
        "print(\"Shape of test Y: \" + str(y_test.shape))"
      ],
      "metadata": {
        "id": "DxdmzMQ_ergz",
        "colab": {
          "base_uri": "https://localhost:8080/"
        },
        "outputId": "374fe2b9-3372-43ac-b589-ccad9bce4c2c"
      },
      "execution_count": 6,
      "outputs": [
        {
          "output_type": "stream",
          "name": "stdout",
          "text": [
            "Max value before preprocessing:255\n",
            "Max value after preprocessing:1.0\n",
            "Shape of train X: (669696, 10)\n",
            "Shape of train Y: (669696,)\n",
            "Shape of test X: (164864, 10)\n",
            "Shape of test Y: (164864, 1)\n"
          ]
        }
      ]
    },
    {
      "cell_type": "code",
      "source": [
        "import tensorflow\n",
        "from keras.layers import Input, Dense\n",
        "from keras import optimizers\n",
        "from keras.models import Model\n",
        "from tensorflow.keras.optimizers import Adam\n",
        "from keras import callbacks\n",
        "#from keras.utils import plot_model\n",
        "from keras.utils.vis_utils import plot_model\n",
        "\n",
        "\n",
        "def MLP_architecture(train_X):\n",
        "    n_col = train_X.shape[1]\n",
        "    input = Input(shape=(n_col,))\n",
        "\n",
        "    hidden1 = Dense(128, activation='relu',\n",
        "                    kernel_initializer='glorot_uniform',\n",
        "                    name='l1')(input)\n",
        "    hidden2= Dense(64, activation='relu',\n",
        "                    kernel_initializer='glorot_uniform',\n",
        "                    name='l2')(hidden1)\n",
        "\n",
        "    hidden3 = Dense(32, activation='relu',\n",
        "               kernel_initializer='glorot_uniform',\n",
        "               name='l3')(hidden2)\n",
        "    output=Dense(2,activation='softmax')(hidden3)\n",
        "    model=Model(inputs=input, outputs=output)\n",
        "    model.summary()\n",
        "    model.compile(loss='categorical_crossentropy', metrics=['accuracy'], optimizer=Adam(lr=0.0001)) #change this\n",
        "    return model\n"
      ],
      "metadata": {
        "id": "oeu0NjEHph2E"
      },
      "execution_count": 7,
      "outputs": []
    },
    {
      "cell_type": "code",
      "source": [
        "from sklearn.model_selection import train_test_split\n",
        "from keras import callbacks\n",
        "from keras.utils import np_utils\n",
        "import matplotlib.pyplot as plt\n",
        "\n",
        "model=MLP_architecture(x_train)\n",
        "callbacks_list = [\n",
        "    callbacks.EarlyStopping(monitor='val_loss', min_delta=0.0001, patience=10, restore_best_weights=True), ]\n",
        "\n",
        "XTraining, XValidation, YTraining, YValidation = train_test_split(x_train, y_train, stratify=y_train, test_size=0.2)\n",
        "YTraining = np_utils.to_categorical(YTraining, 2)\n",
        "YValidation = np_utils.to_categorical(YValidation, 2)\n",
        "#ho incremento dall'originale 30 epoch a 150\n",
        "history = model.fit(XTraining, YTraining, batch_size=32, epochs=150, verbose=2, callbacks=callbacks_list\n",
        "              , shuffle= True , validation_data=(XValidation, YValidation))\n",
        "\n",
        "printPlotAccuracy(history, 'MLP')\n",
        "printPlotLoss(history, 'MLP')"
      ],
      "metadata": {
        "id": "6RcNhSXCodtx",
        "colab": {
          "base_uri": "https://localhost:8080/",
          "height": 1000
        },
        "outputId": "51819d82-6426-4d81-b079-6aebe20828f5"
      },
      "execution_count": 8,
      "outputs": [
        {
          "output_type": "stream",
          "name": "stdout",
          "text": [
            "Model: \"model\"\n",
            "_________________________________________________________________\n",
            " Layer (type)                Output Shape              Param #   \n",
            "=================================================================\n",
            " input_1 (InputLayer)        [(None, 10)]              0         \n",
            "                                                                 \n",
            " l1 (Dense)                  (None, 128)               1408      \n",
            "                                                                 \n",
            " l2 (Dense)                  (None, 64)                8256      \n",
            "                                                                 \n",
            " l3 (Dense)                  (None, 32)                2080      \n",
            "                                                                 \n",
            " dense (Dense)               (None, 2)                 66        \n",
            "                                                                 \n",
            "=================================================================\n",
            "Total params: 11,810\n",
            "Trainable params: 11,810\n",
            "Non-trainable params: 0\n",
            "_________________________________________________________________\n"
          ]
        },
        {
          "output_type": "stream",
          "name": "stderr",
          "text": [
            "WARNING:absl:`lr` is deprecated in Keras optimizer, please use `learning_rate` or use the legacy optimizer, e.g.,tf.keras.optimizers.legacy.Adam.\n"
          ]
        },
        {
          "output_type": "stream",
          "name": "stdout",
          "text": [
            "Epoch 1/150\n",
            "16743/16743 - 61s - loss: 0.1533 - accuracy: 0.9648 - val_loss: 0.1522 - val_accuracy: 0.9649 - 61s/epoch - 4ms/step\n",
            "Epoch 2/150\n",
            "16743/16743 - 55s - loss: 0.1523 - accuracy: 0.9649 - val_loss: 0.1523 - val_accuracy: 0.9649 - 55s/epoch - 3ms/step\n",
            "Epoch 3/150\n",
            "16743/16743 - 58s - loss: 0.1519 - accuracy: 0.9649 - val_loss: 0.1520 - val_accuracy: 0.9649 - 58s/epoch - 3ms/step\n",
            "Epoch 4/150\n",
            "16743/16743 - 55s - loss: 0.1515 - accuracy: 0.9649 - val_loss: 0.1543 - val_accuracy: 0.9649 - 55s/epoch - 3ms/step\n",
            "Epoch 5/150\n",
            "16743/16743 - 55s - loss: 0.1511 - accuracy: 0.9649 - val_loss: 0.1511 - val_accuracy: 0.9649 - 55s/epoch - 3ms/step\n",
            "Epoch 6/150\n",
            "16743/16743 - 55s - loss: 0.1506 - accuracy: 0.9649 - val_loss: 0.1501 - val_accuracy: 0.9649 - 55s/epoch - 3ms/step\n",
            "Epoch 7/150\n",
            "16743/16743 - 57s - loss: 0.1504 - accuracy: 0.9649 - val_loss: 0.1507 - val_accuracy: 0.9649 - 57s/epoch - 3ms/step\n",
            "Epoch 8/150\n",
            "16743/16743 - 58s - loss: 0.1502 - accuracy: 0.9649 - val_loss: 0.1496 - val_accuracy: 0.9649 - 58s/epoch - 3ms/step\n",
            "Epoch 9/150\n",
            "16743/16743 - 55s - loss: 0.1500 - accuracy: 0.9649 - val_loss: 0.1497 - val_accuracy: 0.9649 - 55s/epoch - 3ms/step\n",
            "Epoch 10/150\n",
            "16743/16743 - 58s - loss: 0.1499 - accuracy: 0.9649 - val_loss: 0.1493 - val_accuracy: 0.9649 - 58s/epoch - 3ms/step\n",
            "Epoch 11/150\n",
            "16743/16743 - 57s - loss: 0.1498 - accuracy: 0.9649 - val_loss: 0.1491 - val_accuracy: 0.9649 - 57s/epoch - 3ms/step\n",
            "Epoch 12/150\n",
            "16743/16743 - 58s - loss: 0.1496 - accuracy: 0.9649 - val_loss: 0.1490 - val_accuracy: 0.9649 - 58s/epoch - 3ms/step\n",
            "Epoch 13/150\n",
            "16743/16743 - 55s - loss: 0.1495 - accuracy: 0.9649 - val_loss: 0.1489 - val_accuracy: 0.9649 - 55s/epoch - 3ms/step\n",
            "Epoch 14/150\n",
            "16743/16743 - 57s - loss: 0.1493 - accuracy: 0.9649 - val_loss: 0.1497 - val_accuracy: 0.9649 - 57s/epoch - 3ms/step\n",
            "Epoch 15/150\n",
            "16743/16743 - 57s - loss: 0.1493 - accuracy: 0.9649 - val_loss: 0.1501 - val_accuracy: 0.9649 - 57s/epoch - 3ms/step\n",
            "Epoch 16/150\n",
            "16743/16743 - 57s - loss: 0.1493 - accuracy: 0.9649 - val_loss: 0.1491 - val_accuracy: 0.9649 - 57s/epoch - 3ms/step\n",
            "Epoch 17/150\n",
            "16743/16743 - 55s - loss: 0.1492 - accuracy: 0.9649 - val_loss: 0.1490 - val_accuracy: 0.9649 - 55s/epoch - 3ms/step\n",
            "Epoch 18/150\n",
            "16743/16743 - 55s - loss: 0.1492 - accuracy: 0.9649 - val_loss: 0.1488 - val_accuracy: 0.9649 - 55s/epoch - 3ms/step\n",
            "Epoch 19/150\n",
            "16743/16743 - 55s - loss: 0.1491 - accuracy: 0.9649 - val_loss: 0.1488 - val_accuracy: 0.9649 - 55s/epoch - 3ms/step\n",
            "Epoch 20/150\n",
            "16743/16743 - 54s - loss: 0.1489 - accuracy: 0.9649 - val_loss: 0.1493 - val_accuracy: 0.9649 - 54s/epoch - 3ms/step\n",
            "Epoch 21/150\n",
            "16743/16743 - 56s - loss: 0.1488 - accuracy: 0.9649 - val_loss: 0.1488 - val_accuracy: 0.9649 - 56s/epoch - 3ms/step\n",
            "Epoch 22/150\n",
            "16743/16743 - 55s - loss: 0.1488 - accuracy: 0.9649 - val_loss: 0.1492 - val_accuracy: 0.9649 - 55s/epoch - 3ms/step\n",
            "Epoch 23/150\n",
            "16743/16743 - 57s - loss: 0.1489 - accuracy: 0.9649 - val_loss: 0.1483 - val_accuracy: 0.9649 - 57s/epoch - 3ms/step\n",
            "Epoch 24/150\n",
            "16743/16743 - 56s - loss: 0.1488 - accuracy: 0.9649 - val_loss: 0.1486 - val_accuracy: 0.9649 - 56s/epoch - 3ms/step\n",
            "Epoch 25/150\n",
            "16743/16743 - 55s - loss: 0.1487 - accuracy: 0.9649 - val_loss: 0.1500 - val_accuracy: 0.9649 - 55s/epoch - 3ms/step\n",
            "Epoch 26/150\n",
            "16743/16743 - 55s - loss: 0.1487 - accuracy: 0.9649 - val_loss: 0.1484 - val_accuracy: 0.9649 - 55s/epoch - 3ms/step\n",
            "Epoch 27/150\n",
            "16743/16743 - 56s - loss: 0.1485 - accuracy: 0.9649 - val_loss: 0.1485 - val_accuracy: 0.9649 - 56s/epoch - 3ms/step\n",
            "Epoch 28/150\n",
            "16743/16743 - 56s - loss: 0.1486 - accuracy: 0.9649 - val_loss: 0.1488 - val_accuracy: 0.9649 - 56s/epoch - 3ms/step\n",
            "Epoch 29/150\n",
            "16743/16743 - 57s - loss: 0.1486 - accuracy: 0.9649 - val_loss: 0.1486 - val_accuracy: 0.9649 - 57s/epoch - 3ms/step\n",
            "Epoch 30/150\n",
            "16743/16743 - 57s - loss: 0.1485 - accuracy: 0.9649 - val_loss: 0.1482 - val_accuracy: 0.9649 - 57s/epoch - 3ms/step\n",
            "Epoch 31/150\n",
            "16743/16743 - 56s - loss: 0.1484 - accuracy: 0.9649 - val_loss: 0.1482 - val_accuracy: 0.9649 - 56s/epoch - 3ms/step\n",
            "Epoch 32/150\n",
            "16743/16743 - 56s - loss: 0.1485 - accuracy: 0.9649 - val_loss: 0.1480 - val_accuracy: 0.9649 - 56s/epoch - 3ms/step\n",
            "Epoch 33/150\n",
            "16743/16743 - 57s - loss: 0.1483 - accuracy: 0.9649 - val_loss: 0.1489 - val_accuracy: 0.9649 - 57s/epoch - 3ms/step\n",
            "Epoch 34/150\n",
            "16743/16743 - 57s - loss: 0.1483 - accuracy: 0.9649 - val_loss: 0.1485 - val_accuracy: 0.9649 - 57s/epoch - 3ms/step\n",
            "Epoch 35/150\n",
            "16743/16743 - 56s - loss: 0.1482 - accuracy: 0.9649 - val_loss: 0.1479 - val_accuracy: 0.9649 - 56s/epoch - 3ms/step\n",
            "Epoch 36/150\n",
            "16743/16743 - 56s - loss: 0.1481 - accuracy: 0.9649 - val_loss: 0.1484 - val_accuracy: 0.9649 - 56s/epoch - 3ms/step\n",
            "Epoch 37/150\n",
            "16743/16743 - 54s - loss: 0.1479 - accuracy: 0.9649 - val_loss: 0.1480 - val_accuracy: 0.9649 - 54s/epoch - 3ms/step\n",
            "Epoch 38/150\n",
            "16743/16743 - 57s - loss: 0.1480 - accuracy: 0.9649 - val_loss: 0.1474 - val_accuracy: 0.9649 - 57s/epoch - 3ms/step\n",
            "Epoch 39/150\n",
            "16743/16743 - 55s - loss: 0.1478 - accuracy: 0.9649 - val_loss: 0.1481 - val_accuracy: 0.9649 - 55s/epoch - 3ms/step\n",
            "Epoch 40/150\n",
            "16743/16743 - 54s - loss: 0.1479 - accuracy: 0.9649 - val_loss: 0.1476 - val_accuracy: 0.9649 - 54s/epoch - 3ms/step\n",
            "Epoch 41/150\n",
            "16743/16743 - 54s - loss: 0.1478 - accuracy: 0.9649 - val_loss: 0.1475 - val_accuracy: 0.9649 - 54s/epoch - 3ms/step\n",
            "Epoch 42/150\n",
            "16743/16743 - 54s - loss: 0.1477 - accuracy: 0.9649 - val_loss: 0.1488 - val_accuracy: 0.9649 - 54s/epoch - 3ms/step\n",
            "Epoch 43/150\n",
            "16743/16743 - 56s - loss: 0.1477 - accuracy: 0.9649 - val_loss: 0.1479 - val_accuracy: 0.9649 - 56s/epoch - 3ms/step\n",
            "Epoch 44/150\n",
            "16743/16743 - 54s - loss: 0.1476 - accuracy: 0.9649 - val_loss: 0.1481 - val_accuracy: 0.9649 - 54s/epoch - 3ms/step\n",
            "Epoch 45/150\n",
            "16743/16743 - 56s - loss: 0.1478 - accuracy: 0.9649 - val_loss: 0.1478 - val_accuracy: 0.9649 - 56s/epoch - 3ms/step\n",
            "Epoch 46/150\n",
            "16743/16743 - 54s - loss: 0.1479 - accuracy: 0.9649 - val_loss: 0.1487 - val_accuracy: 0.9649 - 54s/epoch - 3ms/step\n",
            "Epoch 47/150\n",
            "16743/16743 - 56s - loss: 0.1476 - accuracy: 0.9649 - val_loss: 0.1483 - val_accuracy: 0.9649 - 56s/epoch - 3ms/step\n",
            "Epoch 48/150\n",
            "16743/16743 - 57s - loss: 0.1476 - accuracy: 0.9649 - val_loss: 0.1490 - val_accuracy: 0.9649 - 57s/epoch - 3ms/step\n"
          ]
        },
        {
          "output_type": "display_data",
          "data": {
            "text/plain": [
              "<Figure size 640x480 with 1 Axes>"
            ],
            "image/png": "[encoded data removed]"
          },
          "metadata": {}
        },
        {
          "output_type": "display_data",
          "data": {
            "text/plain": [
              "<Figure size 640x480 with 1 Axes>"
            ],
            "image/png": "[encoded data removed]"
          },
          "metadata": {}
        }
      ]
    },
    {
      "cell_type": "code",
      "source": [
        "from sklearn.metrics import classification_report,confusion_matrix\n",
        "y_predicted = model.predict(x_test, verbose=0, use_multiprocessing=True, workers=12)\n",
        "y_predicted = np.argmax(y_predicted, axis=1)\n",
        "print(\"Confusion Matrix:\\n\", confusion_matrix(y_test, y_predicted))\n",
        "print(\"CLassification test: \")\n",
        "print(classification_report(y_test,y_predicted))\n",
        "\n",
        "y_predicted = model.predict(x_train, verbose=0, use_multiprocessing=True, workers=12)\n",
        "y_predicted = np.argmax(y_predicted, axis=1)\n",
        "print(\"Confusion Matrix:\\n\", confusion_matrix(y_train, y_predicted))\n",
        "print(\"CLassification train: \")\n",
        "print(classification_report(y_train, y_predicted))\n",
        "model.save(\"MLP.h5\")\n"
      ],
      "metadata": {
        "id": "4B_9njveGb62",
        "colab": {
          "base_uri": "https://localhost:8080/"
        },
        "outputId": "7ed9eff1-a9e6-42bb-a6da-c63124a2b13f"
      },
      "execution_count": 9,
      "outputs": [
        {
          "output_type": "stream",
          "name": "stdout",
          "text": [
            "Confusion Matrix:\n",
            " [[162100      0]\n",
            " [  2764      0]]\n",
            "CLassification test: \n",
            "              precision    recall  f1-score   support\n",
            "\n",
            "           0       0.98      1.00      0.99    162100\n",
            "           1       0.00      0.00      0.00      2764\n",
            "\n",
            "    accuracy                           0.98    164864\n",
            "   macro avg       0.49      0.50      0.50    164864\n",
            "weighted avg       0.97      0.98      0.97    164864\n",
            "\n"
          ]
        },
        {
          "output_type": "stream",
          "name": "stderr",
          "text": [
            "/usr/local/lib/python3.10/dist-packages/sklearn/metrics/_classification.py:1344: UndefinedMetricWarning: Precision and F-score are ill-defined and being set to 0.0 in labels with no predicted samples. Use `zero_division` parameter to control this behavior.\n",
            "  _warn_prf(average, modifier, msg_start, len(result))\n",
            "/usr/local/lib/python3.10/dist-packages/sklearn/metrics/_classification.py:1344: UndefinedMetricWarning: Precision and F-score are ill-defined and being set to 0.0 in labels with no predicted samples. Use `zero_division` parameter to control this behavior.\n",
            "  _warn_prf(average, modifier, msg_start, len(result))\n",
            "/usr/local/lib/python3.10/dist-packages/sklearn/metrics/_classification.py:1344: UndefinedMetricWarning: Precision and F-score are ill-defined and being set to 0.0 in labels with no predicted samples. Use `zero_division` parameter to control this behavior.\n",
            "  _warn_prf(average, modifier, msg_start, len(result))\n"
          ]
        },
        {
          "output_type": "stream",
          "name": "stdout",
          "text": [
            "Confusion Matrix:\n",
            " [[646165      0]\n",
            " [ 23531      0]]\n",
            "CLassification train: \n"
          ]
        },
        {
          "output_type": "stream",
          "name": "stderr",
          "text": [
            "/usr/local/lib/python3.10/dist-packages/sklearn/metrics/_classification.py:1344: UndefinedMetricWarning: Precision and F-score are ill-defined and being set to 0.0 in labels with no predicted samples. Use `zero_division` parameter to control this behavior.\n",
            "  _warn_prf(average, modifier, msg_start, len(result))\n"
          ]
        },
        {
          "output_type": "stream",
          "name": "stdout",
          "text": [
            "              precision    recall  f1-score   support\n",
            "\n",
            "           0       0.96      1.00      0.98    646165\n",
            "           1       0.00      0.00      0.00     23531\n",
            "\n",
            "    accuracy                           0.96    669696\n",
            "   macro avg       0.48      0.50      0.49    669696\n",
            "weighted avg       0.93      0.96      0.95    669696\n",
            "\n"
          ]
        },
        {
          "output_type": "stream",
          "name": "stderr",
          "text": [
            "/usr/local/lib/python3.10/dist-packages/sklearn/metrics/_classification.py:1344: UndefinedMetricWarning: Precision and F-score are ill-defined and being set to 0.0 in labels with no predicted samples. Use `zero_division` parameter to control this behavior.\n",
            "  _warn_prf(average, modifier, msg_start, len(result))\n",
            "/usr/local/lib/python3.10/dist-packages/sklearn/metrics/_classification.py:1344: UndefinedMetricWarning: Precision and F-score are ill-defined and being set to 0.0 in labels with no predicted samples. Use `zero_division` parameter to control this behavior.\n",
            "  _warn_prf(average, modifier, msg_start, len(result))\n"
          ]
        }
      ]
    }
  ]
}