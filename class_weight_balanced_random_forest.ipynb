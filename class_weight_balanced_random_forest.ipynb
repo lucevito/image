{
  "nbformat": 4,
  "nbformat_minor": 0,
  "metadata": {
    "colab": {
      "provenance": [],
      "gpuType": "T4",
      "authorship_tag": "ABX9TyNp+CuqUvXTEdAsBoeG67tN",
      "include_colab_link": true
    },
    "kernelspec": {
      "name": "python3",
      "display_name": "Python 3"
    },
    "language_info": {
      "name": "python"
    }
  },
  "cells": [
    {
      "cell_type": "markdown",
      "metadata": {
        "id": "view-in-github",
        "colab_type": "text"
      },
      "source": [
        "<a href=\"https://colab.research.google.com/github/lucevito/image/blob/main/class_weight_balanced_random_forest.ipynb\" target=\"_parent\"><img src=\"https://colab.research.google.com/assets/colab-badge.svg\" alt=\"Open In Colab\"/></a>"
      ]
    },
    {
      "cell_type": "code",
      "execution_count": null,
      "metadata": {
        "colab": {
          "base_uri": "https://localhost:8080/"
        },
        "id": "H6cm4yTyDP7C",
        "outputId": "cdb41a3c-6c41-4970-abe2-9f7758575d8e"
      },
      "outputs": [
        {
          "output_type": "stream",
          "name": "stdout",
          "text": [
            "Mounted at /content/drive\n",
            "/content/drive/MyDrive\n"
          ]
        }
      ],
      "source": [
        "from google.colab import drive\n",
        "drive.mount('/content/drive')\n",
        "%cd drive/MyDrive"
      ]
    },
    {
      "cell_type": "code",
      "source": [
        "import glob\n",
        "import numpy as np\n",
        "import tensorflow as tf\n",
        "import matplotlib.pyplot as plt\n",
        "\n",
        "train_images_path = 'Immagini_satellitari/Train/images'\n",
        "train_masks_path = 'Immagini_satellitari/Train/masks'\n",
        "train_images_files = glob.glob(train_images_path + '/*.npy')\n",
        "train_masks_files = glob.glob(train_masks_path + '/*.npy')\n",
        "test_images_path = 'Immagini_satellitari/Test/images'\n",
        "test_masks_path = 'Immagini_satellitari/Test/masks'\n",
        "test_images_files = glob.glob(test_images_path + '/*.npy')\n",
        "test_masks_files = glob.glob(test_masks_path + '/*.npy')\n",
        "\n",
        "x_train = np.array([np.load(file) for file in train_images_files])\n",
        "y_train = np.array([np.load(file) for file in train_masks_files])\n",
        "x_test = np.array([np.load(file) for file in test_images_files])\n",
        "y_test = np.array([np.load(file) for file in test_masks_files])\n",
        "\n",
        "print('x_train :')\n",
        "print(x_train.shape)\n",
        "\n",
        "print('y_train :')\n",
        "print(y_train.shape)\n",
        "\n",
        "print('x_test :')\n",
        "print(x_test.shape)\n",
        "\n",
        "print('y_test :')\n",
        "print(y_test.shape)"
      ],
      "metadata": {
        "colab": {
          "base_uri": "https://localhost:8080/"
        },
        "id": "irSq84DfC-R5",
        "outputId": "ed62b441-88a1-42fa-f31a-e047025080f3"
      },
      "execution_count": null,
      "outputs": [
        {
          "output_type": "stream",
          "name": "stdout",
          "text": [
            "x_train :\n",
            "(654, 32, 32, 10)\n",
            "y_train :\n",
            "(654, 32, 32)\n",
            "x_test :\n",
            "(161, 32, 32, 10)\n",
            "y_test :\n",
            "(161, 32, 32)\n"
          ]
        }
      ]
    },
    {
      "cell_type": "code",
      "source": [
        "x_train = x_train.reshape(654 * 32 * 32, 10)\n",
        "y_train = y_train.reshape(654 * 32 * 32, 1)\n",
        "x_test = x_test.reshape(161 * 32 * 32, 10)\n",
        "y_test = y_test.reshape(161 * 32 * 32, 1)\n",
        "#poiche avevo questo avviso uso ravel()\n",
        "#<ipython-input-5-408a8381cb1e>:6: DataConversionWarning: A column-vector y was passed when a 1d array was expected.\n",
        "#Please change the shape of y to (n_samples,), for example using ravel().\n",
        "y_train = np.ravel(y_train)\n",
        "y_test = np.ravel(y_test)\n",
        "print(\"RESHAPE : \\n\")\n",
        "print('x_train :')\n",
        "print(x_train.shape)\n",
        "print('y_train :')\n",
        "print(y_train.shape)\n",
        "print('x_test :')\n",
        "print(x_test.shape)\n",
        "print('y_test :')\n",
        "print(y_test.shape)"
      ],
      "metadata": {
        "colab": {
          "base_uri": "https://localhost:8080/"
        },
        "id": "v54jJuEPC-Vd",
        "outputId": "8a5a97b1-a3e7-43fe-d63c-1c4b4425b943"
      },
      "execution_count": null,
      "outputs": [
        {
          "output_type": "stream",
          "name": "stdout",
          "text": [
            "RESHAPE : \n",
            "\n",
            "x_train :\n",
            "(669696, 10)\n",
            "y_train :\n",
            "(669696,)\n",
            "x_test :\n",
            "(164864, 10)\n",
            "y_test :\n",
            "(164864,)\n"
          ]
        }
      ]
    },
    {
      "cell_type": "code",
      "source": [
        "from sklearn.ensemble import RandomForestClassifier\n",
        "from sklearn.model_selection import train_test_split\n",
        "from sklearn.metrics import accuracy_score\n",
        "\n",
        "rf_model = RandomForestClassifier(class_weight = \"balanced\",random_state=42)\n",
        "rf_model.fit(x_train, y_train)\n",
        "\n",
        "test_predictions = rf_model.predict(x_test)\n",
        "train_predictions = rf_model.predict(x_train)"
      ],
      "metadata": {
        "id": "Zw3k55YNDON2"
      },
      "execution_count": null,
      "outputs": []
    },
    {
      "cell_type": "code",
      "source": [
        "from sklearn.metrics import confusion_matrix, classification_report, accuracy_score\n",
        "from sklearn.metrics import precision_recall_fscore_support\n",
        "from sklearn.metrics import precision_score, recall_score, f1_score, jaccard_score, confusion_matrix\n",
        "\n",
        "\n",
        "print(\"============================================================================\")\n",
        "print(\"Prediction : TEST \\n\")\n",
        "print(\"Evaluation Metrics:\")\n",
        "print(\"Precision:\", precision_score(y_test, test_predictions, zero_division=0))\n",
        "print(\"Recall:\", recall_score(y_test, test_predictions, zero_division=0))\n",
        "print(\"F1-score:\", f1_score(y_test, test_predictions, zero_division=0))\n",
        "print(\"Mean IoU:\", jaccard_score(y_test, test_predictions, average='macro'))\n",
        "print(\"Confusion Matrix:\\n\", confusion_matrix(y_test, test_predictions))\n",
        "metrics = precision_recall_fscore_support(y_test.ravel(), test_predictions.ravel(), zero_division=0 ,average=None)\n",
        "print(\"precision_attacchi: \", metrics[1][1])\n",
        "print(\"precision_normali: \", metrics[1][0])\n",
        "print(\"F1 attacchi:\", metrics[2][1])\n",
        "print(\"F1 normali:\", metrics[2][0])\n",
        "print(\"Macro F1:\", metrics[2].mean())\n",
        "print(\"OA:\", accuracy_score(y_test, test_predictions))\n",
        "\n",
        "\n",
        "print(\"============================================================================\")\n",
        "print(\"Prediction : TRAIN \\n\")\n",
        "print(\"Evaluation Metrics:\")\n",
        "print(\"Precision:\", precision_score(y_train, train_predictions, zero_division=0))\n",
        "print(\"Recall:\", recall_score(y_train, train_predictions, zero_division=0))\n",
        "print(\"F1-score:\", f1_score(y_train, train_predictions, zero_division=0))\n",
        "print(\"Mean IoU:\", jaccard_score(y_train, train_predictions, average='macro'))\n",
        "print(\"Confusion Matrix:\\n\", confusion_matrix(y_train, train_predictions))\n",
        "metrics = precision_recall_fscore_support(y_train.ravel(), train_predictions.ravel(), zero_division=0 ,average=None)\n",
        "print(\"precision_attacchi: \", metrics[1][1])\n",
        "print(\"precision_normali: \", metrics[1][0])\n",
        "print(\"F1 attacchi:\", metrics[2][1])\n",
        "print(\"F1 normali:\", metrics[2][0])\n",
        "print(\"Macro F1:\", metrics[2].mean())\n",
        "print(\"OA:\", accuracy_score(y_train, train_predictions))"
      ],
      "metadata": {
        "colab": {
          "base_uri": "https://localhost:8080/"
        },
        "id": "bPPwHsVUDQTF",
        "outputId": "64378391-c2a6-414b-8bca-c26a3df25e39"
      },
      "execution_count": null,
      "outputs": [
        {
          "output_type": "stream",
          "name": "stdout",
          "text": [
            "============================================================================\n",
            "Prediction : TEST \n",
            "\n",
            "Evaluation Metrics:\n",
            "Precision: 0.03592814371257485\n",
            "Recall: 0.002170767004341534\n",
            "F1-score: 0.0040941658137154556\n",
            "Mean IoU: 0.49217256747143073\n",
            "Confusion Matrix:\n",
            " [[161939    161]\n",
            " [  2758      6]]\n",
            "precision_attacchi:  0.002170767004341534\n",
            "precision_normali:  0.9990067859346082\n",
            "F1 attacchi: 0.0040941658137154556\n",
            "F1 normali: 0.9910678494600623\n",
            "Macro F1: 0.4975810076368889\n",
            "OA: 0.9822944972826086\n",
            "============================================================================\n",
            "Prediction : TRAIN \n",
            "\n",
            "Evaluation Metrics:\n",
            "Precision: 0.954248366013072\n",
            "Recall: 0.9989375717139093\n",
            "F1-score: 0.9760817207873099\n",
            "Mean IoU: 0.9757490625394418\n",
            "Confusion Matrix:\n",
            " [[645038   1127]\n",
            " [    25  23506]]\n",
            "precision_attacchi:  0.9989375717139093\n",
            "precision_normali:  0.9982558634404525\n",
            "F1 attacchi: 0.9760817207873099\n",
            "F1 normali: 0.9991078260384688\n",
            "Macro F1: 0.9875947734128894\n",
            "OA: 0.9982798165137615\n"
          ]
        }
      ]
    }
  ]
}