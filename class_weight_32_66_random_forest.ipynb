{
  "nbformat": 4,
  "nbformat_minor": 0,
  "metadata": {
    "colab": {
      "provenance": [],
      "gpuType": "T4",
      "authorship_tag": "ABX9TyOz86vszaWhRs108ovBB2QW",
      "include_colab_link": true
    },
    "kernelspec": {
      "name": "python3",
      "display_name": "Python 3"
    },
    "language_info": {
      "name": "python"
    }
  },
  "cells": [
    {
      "cell_type": "markdown",
      "metadata": {
        "id": "view-in-github",
        "colab_type": "text"
      },
      "source": [
        "<a href=\"https://colab.research.google.com/github/lucevito/image/blob/main/class_weight_32_66_random_forest.ipynb\" target=\"_parent\"><img src=\"https://colab.research.google.com/assets/colab-badge.svg\" alt=\"Open In Colab\"/></a>"
      ]
    },
    {
      "cell_type": "code",
      "execution_count": 1,
      "metadata": {
        "colab": {
          "base_uri": "https://localhost:8080/"
        },
        "id": "H6cm4yTyDP7C",
        "outputId": "88488584-0327-477d-fed5-cb1f905d01b4"
      },
      "outputs": [
        {
          "output_type": "stream",
          "name": "stdout",
          "text": [
            "Mounted at /content/drive\n",
            "/content/drive/MyDrive\n"
          ]
        }
      ],
      "source": [
        "from google.colab import drive\n",
        "drive.mount('/content/drive')\n",
        "%cd drive/MyDrive"
      ]
    },
    {
      "cell_type": "code",
      "source": [
        "import glob\n",
        "import numpy as np\n",
        "import tensorflow as tf\n",
        "import matplotlib.pyplot as plt\n",
        "\n",
        "train_images_path = 'Immagini_satellitari/Train/images'\n",
        "train_masks_path = 'Immagini_satellitari/Train/masks'\n",
        "train_images_files = glob.glob(train_images_path + '/*.npy')\n",
        "train_masks_files = glob.glob(train_masks_path + '/*.npy')\n",
        "test_images_path = 'Immagini_satellitari/Test/images'\n",
        "test_masks_path = 'Immagini_satellitari/Test/masks'\n",
        "test_images_files = glob.glob(test_images_path + '/*.npy')\n",
        "test_masks_files = glob.glob(test_masks_path + '/*.npy')\n",
        "\n",
        "x_train = np.array([np.load(file) for file in train_images_files])\n",
        "y_train = np.array([np.load(file) for file in train_masks_files])\n",
        "x_test = np.array([np.load(file) for file in test_images_files])\n",
        "y_test = np.array([np.load(file) for file in test_masks_files])\n",
        "\n",
        "print('x_train :')\n",
        "print(x_train.shape)\n",
        "\n",
        "print('y_train :')\n",
        "print(y_train.shape)\n",
        "\n",
        "print('x_test :')\n",
        "print(x_test.shape)\n",
        "\n",
        "print('y_test :')\n",
        "print(y_test.shape)"
      ],
      "metadata": {
        "colab": {
          "base_uri": "https://localhost:8080/"
        },
        "id": "irSq84DfC-R5",
        "outputId": "a6870ebb-0676-4258-de3c-d7f97a3bd8e9"
      },
      "execution_count": 2,
      "outputs": [
        {
          "output_type": "stream",
          "name": "stdout",
          "text": [
            "x_train :\n",
            "(654, 32, 32, 10)\n",
            "y_train :\n",
            "(654, 32, 32)\n",
            "x_test :\n",
            "(161, 32, 32, 10)\n",
            "y_test :\n",
            "(161, 32, 32)\n"
          ]
        }
      ]
    },
    {
      "cell_type": "code",
      "source": [
        "x_train = x_train.reshape(654 * 32 * 32, 10)\n",
        "y_train = y_train.reshape(654 * 32 * 32, 1)\n",
        "x_test = x_test.reshape(161 * 32 * 32, 10)\n",
        "y_test = y_test.reshape(161 * 32 * 32, 1)\n",
        "#poiche avevo questo avviso uso ravel()\n",
        "#<ipython-input-5-408a8381cb1e>:6: DataConversionWarning: A column-vector y was passed when a 1d array was expected.\n",
        "#Please change the shape of y to (n_samples,), for example using ravel().\n",
        "y_train = np.ravel(y_train)\n",
        "y_test = np.ravel(y_test)\n",
        "print(\"RESHAPE : \\n\")\n",
        "print('x_train :')\n",
        "print(x_train.shape)\n",
        "print('y_train :')\n",
        "print(y_train.shape)\n",
        "print('x_test :')\n",
        "print(x_test.shape)\n",
        "print('y_test :')\n",
        "print(y_test.shape)"
      ],
      "metadata": {
        "colab": {
          "base_uri": "https://localhost:8080/"
        },
        "id": "v54jJuEPC-Vd",
        "outputId": "9d140a6c-699e-44f5-8c44-12366f1aeebe"
      },
      "execution_count": 3,
      "outputs": [
        {
          "output_type": "stream",
          "name": "stdout",
          "text": [
            "RESHAPE : \n",
            "\n",
            "x_train :\n",
            "(669696, 10)\n",
            "y_train :\n",
            "(669696,)\n",
            "x_test :\n",
            "(164864, 10)\n",
            "y_test :\n",
            "(164864,)\n"
          ]
        }
      ]
    },
    {
      "cell_type": "code",
      "source": [
        "from sklearn.ensemble import RandomForestClassifier\n",
        "from sklearn.model_selection import train_test_split\n",
        "from sklearn.metrics import accuracy_score\n",
        "weights = {0: 1, 1: 382999000000}\n",
        "rf_model = RandomForestClassifier(class_weight = weights,random_state=42)\n",
        "rf_model.fit(x_train, y_train)\n",
        "\n",
        "test_predictions = rf_model.predict(x_test)\n",
        "train_predictions = rf_model.predict(x_train)"
      ],
      "metadata": {
        "id": "Zw3k55YNDON2"
      },
      "execution_count": 4,
      "outputs": []
    },
    {
      "cell_type": "code",
      "source": [
        "from sklearn.metrics import confusion_matrix, classification_report, accuracy_score\n",
        "from sklearn.metrics import precision_recall_fscore_support\n",
        "from sklearn.metrics import precision_score, recall_score, f1_score, jaccard_score, confusion_matrix\n",
        "\n",
        "\n",
        "print(\"============================================================================\")\n",
        "print(\"Prediction : TEST \\n\")\n",
        "print(\"Evaluation Metrics:\")\n",
        "print(\"Precision:\", precision_score(y_test, test_predictions, zero_division=0))\n",
        "print(\"Recall:\", recall_score(y_test, test_predictions, zero_division=0))\n",
        "print(\"F1-score:\", f1_score(y_test, test_predictions, zero_division=0))\n",
        "print(\"Mean IoU:\", jaccard_score(y_test, test_predictions, average='macro'))\n",
        "print(\"Confusion Matrix:\\n\", confusion_matrix(y_test, test_predictions))\n",
        "metrics = precision_recall_fscore_support(y_test.ravel(), test_predictions.ravel(), zero_division=0 ,average=None)\n",
        "print(\"precision_attacchi: \", metrics[1][1])\n",
        "print(\"precision_normali: \", metrics[1][0])\n",
        "print(\"F1 attacchi:\", metrics[2][1])\n",
        "print(\"F1 normali:\", metrics[2][0])\n",
        "print(\"Macro F1:\", metrics[2].mean())\n",
        "print(\"OA:\", accuracy_score(y_test, test_predictions))\n",
        "\n",
        "\n",
        "print(\"============================================================================\")\n",
        "print(\"Prediction : TRAIN \\n\")\n",
        "print(\"Evaluation Metrics:\")\n",
        "print(\"Precision:\", precision_score(y_train, train_predictions, zero_division=0))\n",
        "print(\"Recall:\", recall_score(y_train, train_predictions, zero_division=0))\n",
        "print(\"F1-score:\", f1_score(y_train, train_predictions, zero_division=0))\n",
        "print(\"Mean IoU:\", jaccard_score(y_train, train_predictions, average='macro'))\n",
        "print(\"Confusion Matrix:\\n\", confusion_matrix(y_train, train_predictions))\n",
        "metrics = precision_recall_fscore_support(y_train.ravel(), train_predictions.ravel(), zero_division=0 ,average=None)\n",
        "print(\"precision_attacchi: \", metrics[1][1])\n",
        "print(\"precision_normali: \", metrics[1][0])\n",
        "print(\"F1 attacchi:\", metrics[2][1])\n",
        "print(\"F1 normali:\", metrics[2][0])\n",
        "print(\"Macro F1:\", metrics[2].mean())\n",
        "print(\"OA:\", accuracy_score(y_train, train_predictions))"
      ],
      "metadata": {
        "colab": {
          "base_uri": "https://localhost:8080/"
        },
        "id": "bPPwHsVUDQTF",
        "outputId": "d44e087c-929a-4589-b800-e5199cd3bb3c"
      },
      "execution_count": 5,
      "outputs": [
        {
          "output_type": "stream",
          "name": "stdout",
          "text": [
            "============================================================================\n",
            "Prediction : TEST \n",
            "\n",
            "Evaluation Metrics:\n",
            "Precision: 0.016359732129858785\n",
            "Recall: 0.3252532561505065\n",
            "F1-score: 0.031152540023563654\n",
            "Mean IoU: 0.3373932661817296\n",
            "Confusion Matrix:\n",
            " [[108047  54053]\n",
            " [  1865    899]]\n",
            "precision_attacchi:  0.3252532561505065\n",
            "precision_normali:  0.6665453423812462\n",
            "F1 attacchi: 0.031152540023563654\n",
            "F1 normali: 0.7944281869917503\n",
            "Macro F1: 0.41279036350765697\n",
            "OA: 0.6608234666149069\n",
            "============================================================================\n",
            "Prediction : TRAIN \n",
            "\n",
            "Evaluation Metrics:\n",
            "Precision: 0.3093579091291544\n",
            "Recall: 1.0\n",
            "F1-score: 0.4725337617350268\n",
            "Mean IoU: 0.614029120543855\n",
            "Confusion Matrix:\n",
            " [[593632  52533]\n",
            " [     0  23531]]\n",
            "precision_attacchi:  1.0\n",
            "precision_normali:  0.9187003319585555\n",
            "F1 attacchi: 0.4725337617350268\n",
            "F1 normali: 0.9576277406704484\n",
            "Macro F1: 0.7150807512027376\n",
            "OA: 0.9215569452408257\n"
          ]
        }
      ]
    }
  ]
}